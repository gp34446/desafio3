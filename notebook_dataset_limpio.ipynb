{
 "cells": [
  {
   "cell_type": "code",
   "execution_count": null,
   "metadata": {
    "tags": []
   },
   "outputs": [],
   "source": [
    "\"\"\"\n",
    "En este paso filtramos el dataset de alumnos por el año 2016 y hacemos join con el dataset de escuelas.\n",
    "Luego eliminamos NULLs y grabamos el file df_final.csv. Pensando en predecir el campo nivel_desemp_matematica, \n",
    "lo transofrmamos en dos categorias, SATIFACTORIO con valor 0 (satifactorio y avanzado) y 1 BÁSICO (básico y por debajo de básico).\n",
    "Para ejecutar este paso deben tener en la carpeta /desafio3/datasets , los datasets app_alumno.csv y app_escuela.csv.\n",
    "\"\"\"\n",
    "\n",
    "import pandas as pd\n",
    "df = pd.read_csv('../desafio3/datasets/app_alumno.csv', parse_dates=True, na_values=['nc'], low_memory=False)\n",
    "df_escuelas = pd.read_csv('../desafio3/datasets/app_escuela.csv', parse_dates=True, na_values=['nc'], low_memory=False)\n",
    "df_provincia = pd.read_csv('../desafio3/datasets/app_provincia.csv', parse_dates=True, na_values=['nc'], low_memory=False)\n",
    "df_departamento = pd.read_csv('../desafio3/datasets/app_departamento.csv', parse_dates=True, na_values=['nc'], low_memory=False)\n",
    "df_salario = pd.read_csv('../desafio3/datasets/app_salario.csv', parse_dates=True, na_values=['nc'], low_memory=False)\n",
    "df_gastonivel = pd.read_csv('../desafio3/datasets/app_gastonivel.csv', parse_dates=True, na_values=['nc'], low_memory=False)\n",
    "df_gastoobjeto = pd.read_csv('../desafio3/datasets/app_gastoobjeto.csv', parse_dates=True, na_values=['nc'], low_memory=False)\n"
   ]
  },
  {
   "cell_type": "code",
   "execution_count": 2,
   "metadata": {
    "tags": []
   },
   "outputs": [],
   "source": [
    "#Nos quedamos con los casos sin nulos en desmpeño de matemática.\n",
    "#También nos quedamos con el año 2016 y los exámenes de primaria\n",
    "df = df[(df['nivel_desemp_matematica'].notnull()) & (df['year_id'] == 2016) & (df['nivel_id'] == 2)]"
   ]
  },
  {
   "cell_type": "code",
   "execution_count": 3,
   "metadata": {
    "tags": []
   },
   "outputs": [],
   "source": [
    "#Identificamos como avanzado y satisfactorio el desmpeño en matematica segun la nota\n",
    "df['nivel_desemp_matematica'] = df['nivel_desemp_matematica'].apply(lambda x: 0 if x in ['satisfactorio','avanzado'] else 1)"
   ]
  },
  {
   "cell_type": "code",
   "execution_count": 4,
   "metadata": {
    "tags": []
   },
   "outputs": [],
   "source": [
    "#Eliminamos columnas que no vamos a usar en el modelo y aquellas observaciones que tengan na\n",
    "df = df.drop(['id','repeticion_secundaria','nivel_desemp_ciencias_sociales','nivel_desemp_ciencias_naturales','year_id', 'nivel_id'], axis=1)\n",
    "df = df.dropna(axis=0)"
   ]
  },
  {
   "cell_type": "code",
   "execution_count": 5,
   "metadata": {
    "tags": []
   },
   "outputs": [],
   "source": [
    "#### SE AGREGA JOIN PARA AGREGAR AL DATAFRAME LA CANTIDAD DE ALUMNOS QUE TIENE CADA ESCUELA\n",
    "df_curso = pd.read_csv('../desafio3/datasets/app_curso.csv', parse_dates=True, na_values=['nc'], low_memory=False)\n",
    "df_curso = df_curso[df_curso['year_id'] == 2016]\n",
    "df_curso_gr = df_curso.groupby(by='escuela_id')['matricula'].sum()\n",
    "df_curso_gr = df_curso_gr.reset_index()\n",
    "df_escuelas = df_escuelas.rename(columns={'id': 'escuela_id'})\n",
    "df_escuelas = df_escuelas.merge(df_curso_gr, how='inner', on ='escuela_id')\n",
    "####"
   ]
  },
  {
   "cell_type": "code",
   "execution_count": 6,
   "metadata": {
    "tags": []
   },
   "outputs": [],
   "source": [
    "df = df.merge(df_escuelas, how='inner', on ='escuela_id')\n",
    "df = df.drop('icse_cat', axis=1)\n",
    "df = df.dropna(axis=0)"
   ]
  },
  {
   "cell_type": "code",
   "execution_count": 7,
   "metadata": {},
   "outputs": [],
   "source": [
    "df_curso_prov = df_curso.merge(df_escuelas, how = 'left', on ='escuela_id')"
   ]
  },
  {
   "cell_type": "code",
   "execution_count": 8,
   "metadata": {},
   "outputs": [],
   "source": [
    "df_curso_prov = df_curso_prov.groupby(by='provincia_id')['matricula_x'].sum()"
   ]
  },
  {
   "cell_type": "code",
   "execution_count": 9,
   "metadata": {},
   "outputs": [],
   "source": [
    "df_curso_prov = pd.DataFrame(df_curso_prov)\n",
    "df_curso_prov['id'] = df_curso_prov.index\n"
   ]
  },
  {
   "cell_type": "code",
   "execution_count": null,
   "metadata": {},
   "outputs": [],
   "source": []
  },
  {
   "cell_type": "code",
   "execution_count": 10,
   "metadata": {
    "tags": []
   },
   "outputs": [],
   "source": [
    "# Limpieza del dataset de salario\n",
    "df_salario = df_salario[(df_salario['year_id'] == 2016)]\n",
    "df_salario = df_salario.groupby(['provincia_id', 'name'])['value'].aggregate('mean').unstack()\n"
   ]
  },
  {
   "cell_type": "code",
   "execution_count": 11,
   "metadata": {},
   "outputs": [],
   "source": [
    "# Limpieza del dataset de gasto nivel\n",
    "df_gastonivel = df_gastonivel[(df_gastonivel['year_id'] == 2016)]\n",
    "df_gastonivel = df_gastonivel.groupby(['provincia_id', 'name'])['value'].aggregate('mean').unstack()\n",
    "df_gastonivel = df_gastonivel.merge(df_curso_prov, how='inner', left_on=['provincia_id'],right_on=['id'])\n",
    "df_gastonivel = df_gastonivel[['inicial+primaria', 'privada', 'secundaria', 'sin_discriminar', 'snu']].div(df_gastonivel.matricula_x, axis=0)\n",
    "df_gastonivel['provincia_id'] = df_gastonivel.index"
   ]
  },
  {
   "cell_type": "code",
   "execution_count": 12,
   "metadata": {},
   "outputs": [],
   "source": [
    "# Limpieza del dataset de gasto objeto\n",
    "df_gastoobjeto = df_gastoobjeto[(df_gastoobjeto['year_id'] == 2016)]\n",
    "df_gastoobjeto = df_gastoobjeto.groupby(['provincia_id', 'name'])['value'].aggregate('mean').unstack()\n",
    "df_gastoobjeto = df_gastoobjeto.merge(df_curso_prov, how='inner', left_on=['provincia_id'],right_on=['id'])\n",
    "df_gastoobjeto = df_gastoobjeto[['bienes_y_servicios_no_personales', 'erogacion_de_capital', 'personal', 'transferencias_educacion_privada', 'transferencias_otras']].div(df_gastoobjeto.matricula_x, axis=0)\n",
    "df_gastoobjeto['provincia_id'] = df_gastoobjeto.index"
   ]
  },
  {
   "cell_type": "code",
   "execution_count": 13,
   "metadata": {
    "tags": []
   },
   "outputs": [],
   "source": [
    "# Merge de los dataset limpios\n",
    "\n",
    "df = df.merge(df_salario, how = 'inner', on = 'provincia_id')\n",
    "df = df.merge(df_gastonivel, how = 'inner', on = 'provincia_id')\n",
    "df = df.merge(df_gastoobjeto, how = 'inner', on = 'provincia_id')"
   ]
  },
  {
   "cell_type": "code",
   "execution_count": 14,
   "metadata": {},
   "outputs": [
    {
     "data": {
      "text/html": [
       "<div>\n",
       "<style scoped>\n",
       "    .dataframe tbody tr th:only-of-type {\n",
       "        vertical-align: middle;\n",
       "    }\n",
       "\n",
       "    .dataframe tbody tr th {\n",
       "        vertical-align: top;\n",
       "    }\n",
       "\n",
       "    .dataframe thead th {\n",
       "        text-align: right;\n",
       "    }\n",
       "</style>\n",
       "<table border=\"1\" class=\"dataframe\">\n",
       "  <thead>\n",
       "    <tr style=\"text-align: right;\">\n",
       "      <th></th>\n",
       "      <th>sexo</th>\n",
       "      <th>indice_socioeconomico</th>\n",
       "      <th>nivel_desemp_matematica</th>\n",
       "      <th>nivel_desemp_lengua</th>\n",
       "      <th>ponderador_lengua</th>\n",
       "      <th>ponderador_matematica</th>\n",
       "      <th>ponderador_ciencias_naturales</th>\n",
       "      <th>ponderador_ciencias_sociales</th>\n",
       "      <th>tiene_notebook</th>\n",
       "      <th>tiene_pc</th>\n",
       "      <th>...</th>\n",
       "      <th>inicial+primaria</th>\n",
       "      <th>privada</th>\n",
       "      <th>secundaria</th>\n",
       "      <th>sin_discriminar</th>\n",
       "      <th>snu</th>\n",
       "      <th>bienes_y_servicios_no_personales</th>\n",
       "      <th>erogacion_de_capital</th>\n",
       "      <th>personal</th>\n",
       "      <th>transferencias_educacion_privada</th>\n",
       "      <th>transferencias_otras</th>\n",
       "    </tr>\n",
       "  </thead>\n",
       "  <tbody>\n",
       "    <tr>\n",
       "      <th>0</th>\n",
       "      <td>f</td>\n",
       "      <td>medio</td>\n",
       "      <td>0</td>\n",
       "      <td>avanzado</td>\n",
       "      <td>1.309467</td>\n",
       "      <td>1.308268</td>\n",
       "      <td>-1.0</td>\n",
       "      <td>-1.0</td>\n",
       "      <td>no</td>\n",
       "      <td>si</td>\n",
       "      <td>...</td>\n",
       "      <td>14153.324289</td>\n",
       "      <td>6424.569041</td>\n",
       "      <td>9509.173296</td>\n",
       "      <td>5318.844228</td>\n",
       "      <td>2564.942087</td>\n",
       "      <td>3060.587468</td>\n",
       "      <td>1537.060193</td>\n",
       "      <td>25583.003705</td>\n",
       "      <td>6424.569041</td>\n",
       "      <td>1365.632533</td>\n",
       "    </tr>\n",
       "    <tr>\n",
       "      <th>1</th>\n",
       "      <td>f</td>\n",
       "      <td>alto</td>\n",
       "      <td>0</td>\n",
       "      <td>avanzado</td>\n",
       "      <td>1.309467</td>\n",
       "      <td>1.308268</td>\n",
       "      <td>-1.0</td>\n",
       "      <td>-1.0</td>\n",
       "      <td>si</td>\n",
       "      <td>si</td>\n",
       "      <td>...</td>\n",
       "      <td>14153.324289</td>\n",
       "      <td>6424.569041</td>\n",
       "      <td>9509.173296</td>\n",
       "      <td>5318.844228</td>\n",
       "      <td>2564.942087</td>\n",
       "      <td>3060.587468</td>\n",
       "      <td>1537.060193</td>\n",
       "      <td>25583.003705</td>\n",
       "      <td>6424.569041</td>\n",
       "      <td>1365.632533</td>\n",
       "    </tr>\n",
       "    <tr>\n",
       "      <th>2</th>\n",
       "      <td>m</td>\n",
       "      <td>medio</td>\n",
       "      <td>0</td>\n",
       "      <td>satisfactorio</td>\n",
       "      <td>1.309467</td>\n",
       "      <td>1.308268</td>\n",
       "      <td>-1.0</td>\n",
       "      <td>-1.0</td>\n",
       "      <td>si</td>\n",
       "      <td>si</td>\n",
       "      <td>...</td>\n",
       "      <td>14153.324289</td>\n",
       "      <td>6424.569041</td>\n",
       "      <td>9509.173296</td>\n",
       "      <td>5318.844228</td>\n",
       "      <td>2564.942087</td>\n",
       "      <td>3060.587468</td>\n",
       "      <td>1537.060193</td>\n",
       "      <td>25583.003705</td>\n",
       "      <td>6424.569041</td>\n",
       "      <td>1365.632533</td>\n",
       "    </tr>\n",
       "    <tr>\n",
       "      <th>3</th>\n",
       "      <td>m</td>\n",
       "      <td>medio</td>\n",
       "      <td>0</td>\n",
       "      <td>avanzado</td>\n",
       "      <td>1.309467</td>\n",
       "      <td>1.308268</td>\n",
       "      <td>-1.0</td>\n",
       "      <td>-1.0</td>\n",
       "      <td>no</td>\n",
       "      <td>si</td>\n",
       "      <td>...</td>\n",
       "      <td>14153.324289</td>\n",
       "      <td>6424.569041</td>\n",
       "      <td>9509.173296</td>\n",
       "      <td>5318.844228</td>\n",
       "      <td>2564.942087</td>\n",
       "      <td>3060.587468</td>\n",
       "      <td>1537.060193</td>\n",
       "      <td>25583.003705</td>\n",
       "      <td>6424.569041</td>\n",
       "      <td>1365.632533</td>\n",
       "    </tr>\n",
       "    <tr>\n",
       "      <th>4</th>\n",
       "      <td>m</td>\n",
       "      <td>medio</td>\n",
       "      <td>0</td>\n",
       "      <td>avanzado</td>\n",
       "      <td>1.309467</td>\n",
       "      <td>1.308268</td>\n",
       "      <td>-1.0</td>\n",
       "      <td>-1.0</td>\n",
       "      <td>si</td>\n",
       "      <td>si</td>\n",
       "      <td>...</td>\n",
       "      <td>14153.324289</td>\n",
       "      <td>6424.569041</td>\n",
       "      <td>9509.173296</td>\n",
       "      <td>5318.844228</td>\n",
       "      <td>2564.942087</td>\n",
       "      <td>3060.587468</td>\n",
       "      <td>1537.060193</td>\n",
       "      <td>25583.003705</td>\n",
       "      <td>6424.569041</td>\n",
       "      <td>1365.632533</td>\n",
       "    </tr>\n",
       "  </tbody>\n",
       "</table>\n",
       "<p>5 rows × 47 columns</p>\n",
       "</div>"
      ],
      "text/plain": [
       "  sexo indice_socioeconomico  nivel_desemp_matematica nivel_desemp_lengua  \\\n",
       "0    f                 medio                        0            avanzado   \n",
       "1    f                  alto                        0            avanzado   \n",
       "2    m                 medio                        0       satisfactorio   \n",
       "3    m                 medio                        0            avanzado   \n",
       "4    m                 medio                        0            avanzado   \n",
       "\n",
       "   ponderador_lengua  ponderador_matematica  ponderador_ciencias_naturales  \\\n",
       "0           1.309467               1.308268                           -1.0   \n",
       "1           1.309467               1.308268                           -1.0   \n",
       "2           1.309467               1.308268                           -1.0   \n",
       "3           1.309467               1.308268                           -1.0   \n",
       "4           1.309467               1.308268                           -1.0   \n",
       "\n",
       "   ponderador_ciencias_sociales tiene_notebook tiene_pc  ... inicial+primaria  \\\n",
       "0                          -1.0             no       si  ...     14153.324289   \n",
       "1                          -1.0             si       si  ...     14153.324289   \n",
       "2                          -1.0             si       si  ...     14153.324289   \n",
       "3                          -1.0             no       si  ...     14153.324289   \n",
       "4                          -1.0             si       si  ...     14153.324289   \n",
       "\n",
       "       privada   secundaria sin_discriminar          snu  \\\n",
       "0  6424.569041  9509.173296     5318.844228  2564.942087   \n",
       "1  6424.569041  9509.173296     5318.844228  2564.942087   \n",
       "2  6424.569041  9509.173296     5318.844228  2564.942087   \n",
       "3  6424.569041  9509.173296     5318.844228  2564.942087   \n",
       "4  6424.569041  9509.173296     5318.844228  2564.942087   \n",
       "\n",
       "  bienes_y_servicios_no_personales erogacion_de_capital      personal  \\\n",
       "0                      3060.587468          1537.060193  25583.003705   \n",
       "1                      3060.587468          1537.060193  25583.003705   \n",
       "2                      3060.587468          1537.060193  25583.003705   \n",
       "3                      3060.587468          1537.060193  25583.003705   \n",
       "4                      3060.587468          1537.060193  25583.003705   \n",
       "\n",
       "   transferencias_educacion_privada transferencias_otras  \n",
       "0                       6424.569041          1365.632533  \n",
       "1                       6424.569041          1365.632533  \n",
       "2                       6424.569041          1365.632533  \n",
       "3                       6424.569041          1365.632533  \n",
       "4                       6424.569041          1365.632533  \n",
       "\n",
       "[5 rows x 47 columns]"
      ]
     },
     "execution_count": 14,
     "metadata": {},
     "output_type": "execute_result"
    }
   ],
   "source": [
    "df.head()"
   ]
  },
  {
   "cell_type": "code",
   "execution_count": 15,
   "metadata": {},
   "outputs": [
    {
     "data": {
      "text/plain": [
       "(277573, 47)"
      ]
     },
     "execution_count": 15,
     "metadata": {},
     "output_type": "execute_result"
    }
   ],
   "source": [
    "df.shape"
   ]
  },
  {
   "cell_type": "code",
   "execution_count": null,
   "metadata": {},
   "outputs": [],
   "source": []
  },
  {
   "cell_type": "code",
   "execution_count": null,
   "metadata": {
    "tags": []
   },
   "outputs": [],
   "source": [
    "print('#######SHAPE:','\\n',df.shape,'\\n','#######','\\n')\n",
    "print('#######VALUE_COUNTS:','\\n',df['nivel_desemp_matematica'].value_counts(),'\\n','#######','\\n')\n",
    "print('#######NULLs:','\\n',(df.isnull().sum()/df.shape[0])*100,'\\n','#######','\\n')\n",
    "print('#######BALANCE:','\\n',df['nivel_desemp_matematica'].value_counts(),'\\n','#######','\\n')\n",
    "df.to_csv('../desafio3/datasets/df_final.csv')"
   ]
  },
  {
   "cell_type": "code",
   "execution_count": null,
   "metadata": {},
   "outputs": [],
   "source": [
    "df.columns"
   ]
  },
  {
   "cell_type": "code",
   "execution_count": null,
   "metadata": {
    "tags": []
   },
   "outputs": [],
   "source": [
    "\"\"\"\n",
    "En este paso, levantamos el nuevo dataset y convertimos al tipo de dato category las columnas que consideramos categoricas\n",
    "\"\"\"\n",
    "import pandas as pd\n",
    "import numpy as np\n",
    "import matplotlib.pyplot as plt\n",
    "import seaborn as sns\n",
    "from sklearn.model_selection import StratifiedKFold\n",
    "from sklearn.model_selection import train_test_split\n",
    "from sklearn.preprocessing import OneHotEncoder \n",
    "from sklearn.preprocessing import RobustScaler\n",
    "from sklearn.naive_bayes import GaussianNB\n",
    "from sklearn.metrics import accuracy_score\n",
    "from sklearn.metrics import confusion_matrix\n",
    "from sklearn.pipeline import make_pipeline, make_union, Pipeline\n",
    "from sklearn.preprocessing import StandardScaler\n",
    "from sklearn.impute import SimpleImputer\n",
    "from sklearn import metrics\n",
    "from sklearn.base import BaseEstimator, TransformerMixin\n",
    "from sklearn.linear_model import LogisticRegression\n",
    "from sklearn.model_selection import GridSearchCV\n",
    "from sklearn.model_selection import RandomizedSearchCV\n",
    "from sklearn.metrics import classification_report\n",
    "from sklearn.metrics import accuracy_score\n",
    "\n",
    "df = pd.read_csv('../desafio3/datasets/df_final.csv', parse_dates=True, na_values=['nc'], low_memory=False)\n",
    "df = df.drop('Unnamed: 0', axis=1)\n",
    "for i in df.columns:\n",
    "    if (df[i].dtype == object) or i in ['nivel_id', 'escuela_id', 'provincia_id', 'departamento_id']:\n",
    "        df[i] = pd.Categorical(df[i])\n",
    "\n"
   ]
  },
  {
   "cell_type": "code",
   "execution_count": null,
   "metadata": {},
   "outputs": [],
   "source": [
    "\n",
    "\"\"\"A continuación ejecutamos modelos de regresión logistica para validar que el dataset final sea adecuado para trabajar .\n",
    "\"\"\"\n",
    "X = df.drop('nivel_desemp_matematica', axis=1)\n",
    "y = df['nivel_desemp_matematica']\n",
    "X_train, X_test, y_train, y_test = train_test_split(X, y, stratify = y, random_state=42)\n"
   ]
  },
  {
   "cell_type": "code",
   "execution_count": null,
   "metadata": {},
   "outputs": [],
   "source": [
    "class ColumnSelector(BaseEstimator, TransformerMixin):\n",
    "    def __init__(self, columns = 'n'):\n",
    "        self.columns = columns\n",
    "    \n",
    "    def transform(self, X, *_):\n",
    "        if isinstance(X, pd.DataFrame):\n",
    "            #c para tomar columnas categoricas, cualquier otro valor para tomar continuas.\n",
    "            if self.columns == 'c':\n",
    "                categorical_columns = [col for col in X.columns if pd.api.types.is_categorical_dtype(df[col])]\n",
    "                return pd.DataFrame(X[categorical_columns])\n",
    "            else:\n",
    "                scal_columns = [col for col in X.columns if (pd.api.types.is_categorical_dtype(df[col]) == False)]\n",
    "                return pd.DataFrame(X[scal_columns])\n",
    "        else:\n",
    "            raise TypeError(\"Este Transformador solo funciona en DF de Pandas\")\n",
    "    \n",
    "    def fit(self, X, *_):\n",
    "        return self\n",
    "cat_pipe = make_pipeline(ColumnSelector('c'),OneHotEncoder(handle_unknown='ignore'))\n",
    "num_pipe = make_pipeline(ColumnSelector('n'),StandardScaler())\n",
    "union = make_union(num_pipe,\n",
    "                   cat_pipe)\n",
    "\n"
   ]
  },
  {
   "cell_type": "code",
   "execution_count": null,
   "metadata": {
    "tags": []
   },
   "outputs": [],
   "source": [
    "#Este paso tarda bastante dado que ejecutamos un random grid search.\n",
    "\"\"\"\n",
    "RESULTADO: \n",
    "Best score: 0.739\n",
    "Best parameters set:\n",
    "\t log__C: 0.1\n",
    "\t log__penalty: 'l2'\n",
    "              precision    recall  f1-score   support\n",
    "\n",
    "           0       0.77      0.81      0.79     44028\n",
    "           1       0.69      0.63      0.66     29395\n",
    "\n",
    "    accuracy                           0.74     73423\n",
    "   macro avg       0.73      0.72      0.72     73423\n",
    "weighted avg       0.73      0.74      0.74     73423\n",
    "\n",
    "0.7373302643585797\n",
    "\"\"\"\n",
    "union.fit_transform(X)\n",
    "\n",
    "pipeline = Pipeline([('union', union), \n",
    "                     ('log', LogisticRegression(solver='liblinear'))])\n",
    "\n",
    "parameters = {'log__penalty': ['l1', 'l2'],\n",
    "              'log__C': [0.01, 0.1, 1, 10, 100]}\n",
    "folds=StratifiedKFold(n_splits=5,shuffle=True, random_state=42)\n",
    "grid_search = RandomizedSearchCV(pipeline, parameters,cv=folds, n_jobs = 5)\n",
    "grid_search.fit(pd.DataFrame(X_train, columns=X.columns), y_train)\n",
    "\n",
    "print(\"Best score: %0.3f\" % grid_search.best_score_) \n",
    "print(\"Best parameters set:\" )\n",
    "best_parameters = grid_search.best_estimator_.get_params()\n",
    "for param_name in sorted (parameters . keys()): \n",
    "                    print(\"\\t %s: %r\" % (param_name, best_parameters[param_name])) \n",
    "y_pred = grid_search.best_estimator_.predict(X_test)\n",
    "print(classification_report(y_test, y_pred))\n",
    "print(accuracy_score(y_test, y_pred))"
   ]
  },
  {
   "cell_type": "code",
   "execution_count": null,
   "metadata": {},
   "outputs": [],
   "source": []
  },
  {
   "cell_type": "code",
   "execution_count": null,
   "metadata": {},
   "outputs": [],
   "source": []
  },
  {
   "cell_type": "code",
   "execution_count": null,
   "metadata": {},
   "outputs": [],
   "source": []
  }
 ],
 "metadata": {
  "kernelspec": {
   "display_name": "Python 3",
   "language": "python",
   "name": "python3"
  },
  "language_info": {
   "codemirror_mode": {
    "name": "ipython",
    "version": 3
   },
   "file_extension": ".py",
   "mimetype": "text/x-python",
   "name": "python",
   "nbconvert_exporter": "python",
   "pygments_lexer": "ipython3",
   "version": "3.7.7"
  }
 },
 "nbformat": 4,
 "nbformat_minor": 4
}
