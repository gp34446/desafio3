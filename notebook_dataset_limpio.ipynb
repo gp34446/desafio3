{
 "cells": [
  {
   "cell_type": "code",
   "execution_count": null,
   "metadata": {
    "tags": []
   },
   "outputs": [],
   "source": [
    "\"\"\"\n",
    "En este paso filtramos el dataset de alumnos por el año 2016 y hacemos join con el dataset de escuelas.\n",
    "Luego eliminamos NULLs y grabamos el file df_final.csv. Pensando en predecir el campo nivel_desemp_matematica, \n",
    "lo transofrmamos en dos categorias, SATIFACTORIO con valor 0 (satifactorio y avanzado) y 1 BÁSICO (básico y por debajo de básico).\n",
    "Para ejecutar este paso deben tener en la carpeta /desafio3/datasets , los datasets app_alumno.csv y app_escuela.csv.\n",
    "\"\"\"\n",
    "\n",
    "import pandas as pd\n",
    "df = pd.read_csv('../desafio3/datasets/app_alumno.csv', parse_dates=True, na_values=['nc'], low_memory=False)\n",
    "df_escuelas = pd.read_csv('../desafio3/datasets/app_escuela.csv', parse_dates=True, na_values=['nc'], low_memory=False)\n",
    "df_provincia = pd.read_csv('../desafio3/datasets/app_provincia.csv', parse_dates=True, na_values=['nc'], low_memory=False)\n",
    "df_departamento = pd.read_csv('../desafio3/datasets/app_departamento.csv', parse_dates=True, na_values=['nc'], low_memory=False)\n",
    "df_salario = pd.read_csv('../desafio3/datasets/app_salario.csv', parse_dates=True, na_values=['nc'], low_memory=False)\n",
    "df_gastonivel = pd.read_csv('../desafio3/datasets/app_gastonivel.csv', parse_dates=True, na_values=['nc'], low_memory=False)\n",
    "df_gastoobjeto = pd.read_csv('../desafio3/datasets/app_gastoobjeto.csv', parse_dates=True, na_values=['nc'], low_memory=False)\n"
   ]
  },
  {
   "cell_type": "code",
   "execution_count": 2,
   "metadata": {
    "tags": []
   },
   "outputs": [],
   "source": [
    "#Nos quedamos con los casos sin nulos en desmpeño de matemática.\n",
    "#También nos quedamos con el año 2016 y los exámenes de primaria\n",
    "df = df[(df['nivel_desemp_matematica'].notnull()) & (df['year_id'] == 2016) & (df['nivel_id'] == 2)]"
   ]
  },
  {
   "cell_type": "code",
   "execution_count": 3,
   "metadata": {
    "tags": []
   },
   "outputs": [],
   "source": [
    "#Identificamos como avanzado y satisfactorio el desmpeño en matematica segun la nota\n",
    "df['nivel_desemp_matematica'] = df['nivel_desemp_matematica'].apply(lambda x: 0 if x in ['satisfactorio','avanzado'] else 1)"
   ]
  },
  {
   "cell_type": "code",
   "execution_count": 4,
   "metadata": {
    "tags": []
   },
   "outputs": [],
   "source": [
    "#Eliminamos columnas que no vamos a usar en el modelo y aquellas observaciones que tengan na\n",
    "df = df.drop(['id','repeticion_secundaria','nivel_desemp_ciencias_sociales','nivel_desemp_ciencias_naturales','year_id', 'nivel_id'], axis=1)\n",
    "df = df.dropna(axis=0)"
   ]
  },
  {
   "cell_type": "code",
   "execution_count": 5,
   "metadata": {
    "tags": []
   },
   "outputs": [],
   "source": [
    "#### SE AGREGA JOIN PARA AGREGAR AL DATAFRAME LA CANTIDAD DE ALUMNOS QUE TIENE CADA ESCUELA\n",
    "df_curso = pd.read_csv('../desafio3/datasets/app_curso.csv', parse_dates=True, na_values=['nc'], low_memory=False)\n",
    "df_curso = df_curso[df_curso['year_id'] == 2016]\n",
    "df_curso_gr = df_curso.groupby(by='escuela_id')['matricula'].sum()\n",
    "df_curso_gr = df_curso_gr.reset_index()\n",
    "df_escuelas = df_escuelas.rename(columns={'id': 'escuela_id'})\n",
    "df_escuelas = df_escuelas.merge(df_curso_gr, how='inner', on ='escuela_id')\n",
    "####"
   ]
  },
  {
   "cell_type": "code",
   "execution_count": 6,
   "metadata": {
    "tags": []
   },
   "outputs": [],
   "source": [
    "df = df.merge(df_escuelas, how='inner', on ='escuela_id')\n",
    "df = df.drop('icse_cat', axis=1)\n",
    "df = df.dropna(axis=0)"
   ]
  },
  {
   "cell_type": "code",
   "execution_count": 7,
   "metadata": {},
   "outputs": [],
   "source": [
    "df_curso_prov = df_curso.merge(df_escuelas, how = 'left', on ='escuela_id')"
   ]
  },
  {
   "cell_type": "code",
   "execution_count": 8,
   "metadata": {},
   "outputs": [],
   "source": [
    "df_curso_prov = df_curso_prov.groupby(by='provincia_id')['matricula_x'].sum()"
   ]
  },
  {
   "cell_type": "code",
   "execution_count": 9,
   "metadata": {},
   "outputs": [],
   "source": [
    "df_curso_prov = pd.DataFrame(df_curso_prov)\n",
    "df_curso_prov['id'] = df_curso_prov.index\n"
   ]
  },
  {
   "cell_type": "code",
   "execution_count": 10,
   "metadata": {
    "tags": []
   },
   "outputs": [],
   "source": [
    "# Limpieza del dataset de salario\n",
    "df_salario = df_salario[(df_salario['year_id'] == 2016)]\n",
    "df_salario = df_salario.groupby(['provincia_id', 'name'])['value'].aggregate('mean').unstack()\n"
   ]
  },
  {
   "cell_type": "code",
   "execution_count": 11,
   "metadata": {},
   "outputs": [],
   "source": [
    "# Limpieza del dataset de gasto nivel\n",
    "df_gastonivel = df_gastonivel[(df_gastonivel['year_id'] == 2016)]\n",
    "df_gastonivel = df_gastonivel.groupby(['provincia_id', 'name'])['value'].aggregate('mean').unstack()\n",
    "df_gastonivel = df_gastonivel.merge(df_curso_prov, how='inner', left_on=['provincia_id'],right_on=['id'])\n",
    "df_gastonivel = df_gastonivel[['inicial+primaria', 'privada', 'secundaria', 'sin_discriminar', 'snu']].div(df_gastonivel.matricula_x, axis=0)\n",
    "df_gastonivel['provincia_id'] = df_gastonivel.index"
   ]
  },
  {
   "cell_type": "code",
   "execution_count": 12,
   "metadata": {},
   "outputs": [],
   "source": [
    "# Limpieza del dataset de gasto objeto\n",
    "df_gastoobjeto = df_gastoobjeto[(df_gastoobjeto['year_id'] == 2016)]\n",
    "df_gastoobjeto = df_gastoobjeto.groupby(['provincia_id', 'name'])['value'].aggregate('mean').unstack()\n",
    "df_gastoobjeto = df_gastoobjeto.merge(df_curso_prov, how='inner', left_on=['provincia_id'],right_on=['id'])\n",
    "df_gastoobjeto = df_gastoobjeto[['bienes_y_servicios_no_personales', 'erogacion_de_capital', 'personal', 'transferencias_educacion_privada', 'transferencias_otras']].div(df_gastoobjeto.matricula_x, axis=0)\n",
    "df_gastoobjeto['provincia_id'] = df_gastoobjeto.index"
   ]
  },
  {
   "cell_type": "code",
   "execution_count": 13,
   "metadata": {
    "tags": []
   },
   "outputs": [],
   "source": [
    "# Merge de los dataset limpios\n",
    "\n",
    "df = df.merge(df_salario, how = 'inner', on = 'provincia_id')\n",
    "df = df.merge(df_gastonivel, how = 'inner', on = 'provincia_id')\n",
    "df = df.merge(df_gastoobjeto, how = 'inner', on = 'provincia_id')"
   ]
  },
  {
   "cell_type": "code",
   "execution_count": 14,
   "metadata": {},
   "outputs": [],
   "source": [
    "ponderador_mate = df.ponderador_matematica\n",
    "ponderador_lengua = df.ponderador_lengua\n",
    "df.drop(columns=['ponderador_lengua', 'ponderador_matematica','ponderador_ciencias_naturales', 'ponderador_ciencias_sociales'],inplace = True)\n"
   ]
  },
  {
   "cell_type": "code",
   "execution_count": 15,
   "metadata": {
    "tags": []
   },
   "outputs": [
    {
     "name": "stdout",
     "output_type": "stream",
     "text": [
      "#######SHAPE: \n",
      " (277573, 43) \n",
      " ####### \n",
      "\n",
      "#######VALUE_COUNTS: \n",
      " 0    170447\n",
      "1    107126\n",
      "Name: nivel_desemp_matematica, dtype: int64 \n",
      " ####### \n",
      "\n",
      "#######NULLs: \n",
      " sexo                                0.0\n",
      "indice_socioeconomico               0.0\n",
      "nivel_desemp_matematica             0.0\n",
      "nivel_desemp_lengua                 0.0\n",
      "tiene_notebook                      0.0\n",
      "tiene_pc                            0.0\n",
      "tiene_tablet                        0.0\n",
      "tiene_celular                       0.0\n",
      "tiene_smartphone                    0.0\n",
      "tiene_consola                       0.0\n",
      "tiene_smarttv                       0.0\n",
      "tiene_cable                         0.0\n",
      "tiene_internet_x                    0.0\n",
      "repeticion_primaria                 0.0\n",
      "escuela_id                          0.0\n",
      "ambito                              0.0\n",
      "gestion                             0.0\n",
      "icse                                0.0\n",
      "indice_socioeconomico_medio         0.0\n",
      "indice_socioeconomico_medio_cat     0.0\n",
      "tecnica                             0.0\n",
      "tiene_internet_y                    0.0\n",
      "subvencion                          0.0\n",
      "dependencia                         0.0\n",
      "departamento_id                     0.0\n",
      "provincia_id                        0.0\n",
      "matricula                           0.0\n",
      "director_primaria                   0.0\n",
      "director_secundaria                 0.0\n",
      "maestro_de_grado                    0.0\n",
      "maestro_inicial                     0.0\n",
      "profesor_secundaria_15hs            0.0\n",
      "profesor_snu                        0.0\n",
      "inicial+primaria                    0.0\n",
      "privada                             0.0\n",
      "secundaria                          0.0\n",
      "sin_discriminar                     0.0\n",
      "snu                                 0.0\n",
      "bienes_y_servicios_no_personales    0.0\n",
      "erogacion_de_capital                0.0\n",
      "personal                            0.0\n",
      "transferencias_educacion_privada    0.0\n",
      "transferencias_otras                0.0\n",
      "dtype: float64 \n",
      " ####### \n",
      "\n",
      "#######BALANCE: \n",
      " 0    170447\n",
      "1    107126\n",
      "Name: nivel_desemp_matematica, dtype: int64 \n",
      " ####### \n",
      "\n"
     ]
    }
   ],
   "source": [
    "print('#######SHAPE:','\\n',df.shape,'\\n','#######','\\n')\n",
    "print('#######VALUE_COUNTS:','\\n',df['nivel_desemp_matematica'].value_counts(),'\\n','#######','\\n')\n",
    "print('#######NULLs:','\\n',(df.isnull().sum()/df.shape[0])*100,'\\n','#######','\\n')\n",
    "print('#######BALANCE:','\\n',df['nivel_desemp_matematica'].value_counts(),'\\n','#######','\\n')\n",
    "df.to_csv('../desafio3/datasets/df_final.csv')"
   ]
  }
 ],
 "metadata": {
  "kernelspec": {
   "display_name": "Python 3",
   "language": "python",
   "name": "python3"
  },
  "language_info": {
   "codemirror_mode": {
    "name": "ipython",
    "version": 3
   },
   "file_extension": ".py",
   "mimetype": "text/x-python",
   "name": "python",
   "nbconvert_exporter": "python",
   "pygments_lexer": "ipython3",
   "version": "3.7.7"
  }
 },
 "nbformat": 4,
 "nbformat_minor": 4
}
