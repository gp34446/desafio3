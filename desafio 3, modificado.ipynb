{
  "nbformat": 4,
  "nbformat_minor": 0,
  "metadata": {
    "language_info": {
      "codemirror_mode": {
        "name": "ipython",
        "version": 3
      },
      "file_extension": ".py",
      "mimetype": "text/x-python",
      "name": "python",
      "nbconvert_exporter": "python",
      "pygments_lexer": "ipython3",
      "version": "3.7.6-final"
    },
    "orig_nbformat": 2,
    "kernelspec": {
      "name": "python37664bitdhcondac51ae0c7bb5d4a4fb15b9da2fc882088",
      "display_name": "Python 3.7.6 64-bit ('dh': conda)"
    },
    "colab": {
      "name": "limpiar_dataset.ipynb",
      "provenance": []
    }
  },
  "cells": [
    {
      "cell_type": "code",
      "metadata": {
        "id": "9b1bSv3ms-D7",
        "colab_type": "code",
        "colab": {}
      },
      "source": [
        "import pandas as pd"
      ],
      "execution_count": 1,
      "outputs": []
    },
    {
      "cell_type": "code",
      "metadata": {
        "tags": [],
        "id": "_1_bNjXLsu1T",
        "colab_type": "code",
        "colab": {
          "base_uri": "https://localhost:8080/",
          "height": 467
        },
        "outputId": "b186d05b-22c0-44b0-cfa7-75fe4503ffc1"
      },
      "source": [
        "\"\"\"\n",
        "En este paso filtramos el dataset de alumnos por el año 2016 y hacemos join con el dataset de escuelas.\n",
        "Luego eliminamos NULLs y grabamos el file df_final.csv. Pensando en predecir el campo nivel_desemp_matematica, \n",
        "lo transofrmamos en dos categorias, SATIFACTORIO con valor 0 (satifactorio y avanzado) y 1 BÁSICO (básico y por debajo de básico).\n",
        "Para ejecutar este paso deben tener en la carpeta /desafio3/datasets , los datasets app_alumno.csv y app_escuela.csv.\n",
        "\"\"\"\n",
        "\n",
        "import pandas as pd\n",
        "df = pd.read_csv('../desafio3/datasets/app_alumno.csv', parse_dates=True, na_values=['nc'], low_memory=False)\n",
        "df_escuelas = pd.read_csv('../desafio3/datasets/app_escuela.csv', parse_dates=True, na_values=['nc'], low_memory=False)\n",
        "df = df[(df['nivel_desemp_matematica'].notnull()) & (df['year_id'] == 2016)]\n",
        "df = df.drop(['id','repeticion_secundaria','nivel_desemp_ciencias_sociales','nivel_desemp_ciencias_naturales','year_id'], axis=1)\n",
        "df = df.dropna(axis=0)\n",
        "df['nivel_desemp_matematica'] = df['nivel_desemp_matematica'].apply(lambda x: 0 if x in ['satisfactorio','avanzado'] else 1)\n",
        "df_escuelas = df_escuelas.rename(columns={'id': 'escuela_id'})\n",
        "df_escuelas = df_escuelas.drop('icse_cat', axis=1)\n",
        "df = df.merge(df_escuelas, how='inner', on ='escuela_id')\n",
        "df = df.dropna(axis=0)\n",
        "print('#######SHAPE:','\\n',df.shape,'\\n','#######','\\n')\n",
        "print('#######VALUE_COUNTS:','\\n',df['nivel_desemp_matematica'].value_counts(),'\\n','#######','\\n')\n",
        "print('#######NULLs:','\\n',(df.isnull().sum()/df.shape[0])*100,'\\n','#######','\\n')\n",
        "print('#######BALANCE:','\\n',df['nivel_desemp_matematica'].value_counts(),'\\n','#######','\\n')\n",
        "df.to_csv('../desafio3/datasets/df_final.csv')"
      ],
      "execution_count": 2,
      "outputs": [
        {
          "output_type": "error",
          "ename": "FileNotFoundError",
          "evalue": "ignored",
          "traceback": [
            "\u001b[0;31m---------------------------------------------------------------------------\u001b[0m",
            "\u001b[0;31mFileNotFoundError\u001b[0m                         Traceback (most recent call last)",
            "\u001b[0;32m<ipython-input-2-e15282f29595>\u001b[0m in \u001b[0;36m<module>\u001b[0;34m()\u001b[0m\n\u001b[1;32m      7\u001b[0m \u001b[0;34m\u001b[0m\u001b[0m\n\u001b[1;32m      8\u001b[0m \u001b[0;32mimport\u001b[0m \u001b[0mpandas\u001b[0m \u001b[0;32mas\u001b[0m \u001b[0mpd\u001b[0m\u001b[0;34m\u001b[0m\u001b[0;34m\u001b[0m\u001b[0m\n\u001b[0;32m----> 9\u001b[0;31m \u001b[0mdf\u001b[0m \u001b[0;34m=\u001b[0m \u001b[0mpd\u001b[0m\u001b[0;34m.\u001b[0m\u001b[0mread_csv\u001b[0m\u001b[0;34m(\u001b[0m\u001b[0;34m'../desafio3/datasets/app_alumno.csv'\u001b[0m\u001b[0;34m,\u001b[0m \u001b[0mparse_dates\u001b[0m\u001b[0;34m=\u001b[0m\u001b[0;32mTrue\u001b[0m\u001b[0;34m,\u001b[0m \u001b[0mna_values\u001b[0m\u001b[0;34m=\u001b[0m\u001b[0;34m[\u001b[0m\u001b[0;34m'nc'\u001b[0m\u001b[0;34m]\u001b[0m\u001b[0;34m,\u001b[0m \u001b[0mlow_memory\u001b[0m\u001b[0;34m=\u001b[0m\u001b[0;32mFalse\u001b[0m\u001b[0;34m)\u001b[0m\u001b[0;34m\u001b[0m\u001b[0;34m\u001b[0m\u001b[0m\n\u001b[0m\u001b[1;32m     10\u001b[0m \u001b[0mdf_escuelas\u001b[0m \u001b[0;34m=\u001b[0m \u001b[0mpd\u001b[0m\u001b[0;34m.\u001b[0m\u001b[0mread_csv\u001b[0m\u001b[0;34m(\u001b[0m\u001b[0;34m'../desafio3/datasets/app_escuela.csv'\u001b[0m\u001b[0;34m,\u001b[0m \u001b[0mparse_dates\u001b[0m\u001b[0;34m=\u001b[0m\u001b[0;32mTrue\u001b[0m\u001b[0;34m,\u001b[0m \u001b[0mna_values\u001b[0m\u001b[0;34m=\u001b[0m\u001b[0;34m[\u001b[0m\u001b[0;34m'nc'\u001b[0m\u001b[0;34m]\u001b[0m\u001b[0;34m,\u001b[0m \u001b[0mlow_memory\u001b[0m\u001b[0;34m=\u001b[0m\u001b[0;32mFalse\u001b[0m\u001b[0;34m)\u001b[0m\u001b[0;34m\u001b[0m\u001b[0;34m\u001b[0m\u001b[0m\n\u001b[1;32m     11\u001b[0m \u001b[0mdf\u001b[0m \u001b[0;34m=\u001b[0m \u001b[0mdf\u001b[0m\u001b[0;34m[\u001b[0m\u001b[0;34m(\u001b[0m\u001b[0mdf\u001b[0m\u001b[0;34m[\u001b[0m\u001b[0;34m'nivel_desemp_matematica'\u001b[0m\u001b[0;34m]\u001b[0m\u001b[0;34m.\u001b[0m\u001b[0mnotnull\u001b[0m\u001b[0;34m(\u001b[0m\u001b[0;34m)\u001b[0m\u001b[0;34m)\u001b[0m \u001b[0;34m&\u001b[0m \u001b[0;34m(\u001b[0m\u001b[0mdf\u001b[0m\u001b[0;34m[\u001b[0m\u001b[0;34m'year_id'\u001b[0m\u001b[0;34m]\u001b[0m \u001b[0;34m==\u001b[0m \u001b[0;36m2016\u001b[0m\u001b[0;34m)\u001b[0m\u001b[0;34m]\u001b[0m\u001b[0;34m\u001b[0m\u001b[0;34m\u001b[0m\u001b[0m\n",
            "\u001b[0;32m/usr/local/lib/python3.6/dist-packages/pandas/io/parsers.py\u001b[0m in \u001b[0;36mparser_f\u001b[0;34m(filepath_or_buffer, sep, delimiter, header, names, index_col, usecols, squeeze, prefix, mangle_dupe_cols, dtype, engine, converters, true_values, false_values, skipinitialspace, skiprows, skipfooter, nrows, na_values, keep_default_na, na_filter, verbose, skip_blank_lines, parse_dates, infer_datetime_format, keep_date_col, date_parser, dayfirst, cache_dates, iterator, chunksize, compression, thousands, decimal, lineterminator, quotechar, quoting, doublequote, escapechar, comment, encoding, dialect, error_bad_lines, warn_bad_lines, delim_whitespace, low_memory, memory_map, float_precision)\u001b[0m\n\u001b[1;32m    674\u001b[0m         )\n\u001b[1;32m    675\u001b[0m \u001b[0;34m\u001b[0m\u001b[0m\n\u001b[0;32m--> 676\u001b[0;31m         \u001b[0;32mreturn\u001b[0m \u001b[0m_read\u001b[0m\u001b[0;34m(\u001b[0m\u001b[0mfilepath_or_buffer\u001b[0m\u001b[0;34m,\u001b[0m \u001b[0mkwds\u001b[0m\u001b[0;34m)\u001b[0m\u001b[0;34m\u001b[0m\u001b[0;34m\u001b[0m\u001b[0m\n\u001b[0m\u001b[1;32m    677\u001b[0m \u001b[0;34m\u001b[0m\u001b[0m\n\u001b[1;32m    678\u001b[0m     \u001b[0mparser_f\u001b[0m\u001b[0;34m.\u001b[0m\u001b[0m__name__\u001b[0m \u001b[0;34m=\u001b[0m \u001b[0mname\u001b[0m\u001b[0;34m\u001b[0m\u001b[0;34m\u001b[0m\u001b[0m\n",
            "\u001b[0;32m/usr/local/lib/python3.6/dist-packages/pandas/io/parsers.py\u001b[0m in \u001b[0;36m_read\u001b[0;34m(filepath_or_buffer, kwds)\u001b[0m\n\u001b[1;32m    446\u001b[0m \u001b[0;34m\u001b[0m\u001b[0m\n\u001b[1;32m    447\u001b[0m     \u001b[0;31m# Create the parser.\u001b[0m\u001b[0;34m\u001b[0m\u001b[0;34m\u001b[0m\u001b[0;34m\u001b[0m\u001b[0m\n\u001b[0;32m--> 448\u001b[0;31m     \u001b[0mparser\u001b[0m \u001b[0;34m=\u001b[0m \u001b[0mTextFileReader\u001b[0m\u001b[0;34m(\u001b[0m\u001b[0mfp_or_buf\u001b[0m\u001b[0;34m,\u001b[0m \u001b[0;34m**\u001b[0m\u001b[0mkwds\u001b[0m\u001b[0;34m)\u001b[0m\u001b[0;34m\u001b[0m\u001b[0;34m\u001b[0m\u001b[0m\n\u001b[0m\u001b[1;32m    449\u001b[0m \u001b[0;34m\u001b[0m\u001b[0m\n\u001b[1;32m    450\u001b[0m     \u001b[0;32mif\u001b[0m \u001b[0mchunksize\u001b[0m \u001b[0;32mor\u001b[0m \u001b[0miterator\u001b[0m\u001b[0;34m:\u001b[0m\u001b[0;34m\u001b[0m\u001b[0;34m\u001b[0m\u001b[0m\n",
            "\u001b[0;32m/usr/local/lib/python3.6/dist-packages/pandas/io/parsers.py\u001b[0m in \u001b[0;36m__init__\u001b[0;34m(self, f, engine, **kwds)\u001b[0m\n\u001b[1;32m    878\u001b[0m             \u001b[0mself\u001b[0m\u001b[0;34m.\u001b[0m\u001b[0moptions\u001b[0m\u001b[0;34m[\u001b[0m\u001b[0;34m\"has_index_names\"\u001b[0m\u001b[0;34m]\u001b[0m \u001b[0;34m=\u001b[0m \u001b[0mkwds\u001b[0m\u001b[0;34m[\u001b[0m\u001b[0;34m\"has_index_names\"\u001b[0m\u001b[0;34m]\u001b[0m\u001b[0;34m\u001b[0m\u001b[0;34m\u001b[0m\u001b[0m\n\u001b[1;32m    879\u001b[0m \u001b[0;34m\u001b[0m\u001b[0m\n\u001b[0;32m--> 880\u001b[0;31m         \u001b[0mself\u001b[0m\u001b[0;34m.\u001b[0m\u001b[0m_make_engine\u001b[0m\u001b[0;34m(\u001b[0m\u001b[0mself\u001b[0m\u001b[0;34m.\u001b[0m\u001b[0mengine\u001b[0m\u001b[0;34m)\u001b[0m\u001b[0;34m\u001b[0m\u001b[0;34m\u001b[0m\u001b[0m\n\u001b[0m\u001b[1;32m    881\u001b[0m \u001b[0;34m\u001b[0m\u001b[0m\n\u001b[1;32m    882\u001b[0m     \u001b[0;32mdef\u001b[0m \u001b[0mclose\u001b[0m\u001b[0;34m(\u001b[0m\u001b[0mself\u001b[0m\u001b[0;34m)\u001b[0m\u001b[0;34m:\u001b[0m\u001b[0;34m\u001b[0m\u001b[0;34m\u001b[0m\u001b[0m\n",
            "\u001b[0;32m/usr/local/lib/python3.6/dist-packages/pandas/io/parsers.py\u001b[0m in \u001b[0;36m_make_engine\u001b[0;34m(self, engine)\u001b[0m\n\u001b[1;32m   1112\u001b[0m     \u001b[0;32mdef\u001b[0m \u001b[0m_make_engine\u001b[0m\u001b[0;34m(\u001b[0m\u001b[0mself\u001b[0m\u001b[0;34m,\u001b[0m \u001b[0mengine\u001b[0m\u001b[0;34m=\u001b[0m\u001b[0;34m\"c\"\u001b[0m\u001b[0;34m)\u001b[0m\u001b[0;34m:\u001b[0m\u001b[0;34m\u001b[0m\u001b[0;34m\u001b[0m\u001b[0m\n\u001b[1;32m   1113\u001b[0m         \u001b[0;32mif\u001b[0m \u001b[0mengine\u001b[0m \u001b[0;34m==\u001b[0m \u001b[0;34m\"c\"\u001b[0m\u001b[0;34m:\u001b[0m\u001b[0;34m\u001b[0m\u001b[0;34m\u001b[0m\u001b[0m\n\u001b[0;32m-> 1114\u001b[0;31m             \u001b[0mself\u001b[0m\u001b[0;34m.\u001b[0m\u001b[0m_engine\u001b[0m \u001b[0;34m=\u001b[0m \u001b[0mCParserWrapper\u001b[0m\u001b[0;34m(\u001b[0m\u001b[0mself\u001b[0m\u001b[0;34m.\u001b[0m\u001b[0mf\u001b[0m\u001b[0;34m,\u001b[0m \u001b[0;34m**\u001b[0m\u001b[0mself\u001b[0m\u001b[0;34m.\u001b[0m\u001b[0moptions\u001b[0m\u001b[0;34m)\u001b[0m\u001b[0;34m\u001b[0m\u001b[0;34m\u001b[0m\u001b[0m\n\u001b[0m\u001b[1;32m   1115\u001b[0m         \u001b[0;32melse\u001b[0m\u001b[0;34m:\u001b[0m\u001b[0;34m\u001b[0m\u001b[0;34m\u001b[0m\u001b[0m\n\u001b[1;32m   1116\u001b[0m             \u001b[0;32mif\u001b[0m \u001b[0mengine\u001b[0m \u001b[0;34m==\u001b[0m \u001b[0;34m\"python\"\u001b[0m\u001b[0;34m:\u001b[0m\u001b[0;34m\u001b[0m\u001b[0;34m\u001b[0m\u001b[0m\n",
            "\u001b[0;32m/usr/local/lib/python3.6/dist-packages/pandas/io/parsers.py\u001b[0m in \u001b[0;36m__init__\u001b[0;34m(self, src, **kwds)\u001b[0m\n\u001b[1;32m   1889\u001b[0m         \u001b[0mkwds\u001b[0m\u001b[0;34m[\u001b[0m\u001b[0;34m\"usecols\"\u001b[0m\u001b[0;34m]\u001b[0m \u001b[0;34m=\u001b[0m \u001b[0mself\u001b[0m\u001b[0;34m.\u001b[0m\u001b[0musecols\u001b[0m\u001b[0;34m\u001b[0m\u001b[0;34m\u001b[0m\u001b[0m\n\u001b[1;32m   1890\u001b[0m \u001b[0;34m\u001b[0m\u001b[0m\n\u001b[0;32m-> 1891\u001b[0;31m         \u001b[0mself\u001b[0m\u001b[0;34m.\u001b[0m\u001b[0m_reader\u001b[0m \u001b[0;34m=\u001b[0m \u001b[0mparsers\u001b[0m\u001b[0;34m.\u001b[0m\u001b[0mTextReader\u001b[0m\u001b[0;34m(\u001b[0m\u001b[0msrc\u001b[0m\u001b[0;34m,\u001b[0m \u001b[0;34m**\u001b[0m\u001b[0mkwds\u001b[0m\u001b[0;34m)\u001b[0m\u001b[0;34m\u001b[0m\u001b[0;34m\u001b[0m\u001b[0m\n\u001b[0m\u001b[1;32m   1892\u001b[0m         \u001b[0mself\u001b[0m\u001b[0;34m.\u001b[0m\u001b[0munnamed_cols\u001b[0m \u001b[0;34m=\u001b[0m \u001b[0mself\u001b[0m\u001b[0;34m.\u001b[0m\u001b[0m_reader\u001b[0m\u001b[0;34m.\u001b[0m\u001b[0munnamed_cols\u001b[0m\u001b[0;34m\u001b[0m\u001b[0;34m\u001b[0m\u001b[0m\n\u001b[1;32m   1893\u001b[0m \u001b[0;34m\u001b[0m\u001b[0m\n",
            "\u001b[0;32mpandas/_libs/parsers.pyx\u001b[0m in \u001b[0;36mpandas._libs.parsers.TextReader.__cinit__\u001b[0;34m()\u001b[0m\n",
            "\u001b[0;32mpandas/_libs/parsers.pyx\u001b[0m in \u001b[0;36mpandas._libs.parsers.TextReader._setup_parser_source\u001b[0;34m()\u001b[0m\n",
            "\u001b[0;31mFileNotFoundError\u001b[0m: [Errno 2] File ../desafio3/datasets/app_alumno.csv does not exist: '../desafio3/datasets/app_alumno.csv'"
          ]
        }
      ]
    },
    {
      "cell_type": "code",
      "metadata": {
        "tags": [],
        "id": "YbY9ekh6su1g",
        "colab_type": "code",
        "colab": {}
      },
      "source": [
        "\"\"\"\n",
        "En este paso, levantamos el nuevo dataset y convertimos al tipo de dato category las columnas que consideramos categoricas\n",
        "\"\"\"\n",
        "import pandas as pd\n",
        "import numpy as np\n",
        "import matplotlib.pyplot as plt\n",
        "import seaborn as sns\n",
        "from sklearn.model_selection import StratifiedKFold, train_test_split, KFold, cross_val_score\n",
        "from sklearn.preprocessing import OneHotEncoder,RobustScaler\n",
        "from sklearn.naive_bayes import GaussianNB, CategoricalNB, BernoulliNB, ComplementNB, MultinomialNB\n",
        "from sklearn.neighbors import KNeighborsClassifier\n",
        "from sklearn.metrics import accuracy_score, confusion_matrix, classification_report\n",
        "from sklearn.pipeline import make_pipeline, make_union, Pipeline\n",
        "from sklearn.preprocessing import StandardScaler\n",
        "from sklearn.impute import SimpleImputer\n",
        "from sklearn import metrics\n",
        "from sklearn.base import BaseEstimator, TransformerMixin\n",
        "from sklearn.linear_model import LogisticRegression\n",
        "from sklearn.model_selection import GridSearchCV, RandomizedSearchCV\n",
        "from sklearn.discriminant_analysis import LinearDiscriminantAnalysis\n",
        "from sklearn.svm import SVC\n",
        "from sklearn.tree import DecisionTreeClassifier"
      ],
      "execution_count": 77,
      "outputs": []
    },
    {
      "cell_type": "code",
      "metadata": {
        "id": "TubZ_JKR5lwJ",
        "colab_type": "code",
        "colab": {
          "base_uri": "https://localhost:8080/",
          "height": 305
        },
        "outputId": "4c2ef5bf-fb37-4041-8bf3-8e9254c1d91e"
      },
      "source": [
        "df = pd.read_csv('df_final.csv', parse_dates=True, na_values=['nc'], low_memory=False)\n",
        "df = df.drop('Unnamed: 0', axis=1)\n",
        "# -----------------------------------------------\n",
        "# Agrego el data set de sueldo por provincia\n",
        "# -----------------------------------------\n",
        "sueldos = pd.read_csv(\"csv_files_app_salario.csv\",low_memory=False)\n",
        "sueldos = sueldos[(sueldos.year_id == 2016)]\n",
        "sueldos = sueldos[(sueldos.name == \"maestro_inicial\") | (sueldos.name == \"maestro_de_grado\") | (sueldos.name == \"director_primaria\")]\n",
        "sueldos_listo = pd.pivot_table(sueldos,values=\"value\",columns=\"name\",index=\"provincia_id\")\n",
        "df = pd.merge(df,sueldos_listo,how=\"left\",left_on=\"provincia_id\",right_index=True)\n",
        "for i in df.columns:\n",
        "    if (df[i].dtype == object) or i in ['nivel_id', 'escuela_id', 'provincia_id', 'departamento_id','director_primaria','maestro_inicial']:\n",
        "      # -------------------------------------------------------------\n",
        "      # Agrego las 3 columnas que se refieren a los sueldos de las diferentes posiciones\n",
        "      # ---------------------------------------------------------------\n",
        "        df[i] = pd.Categorical(df[i])\n",
        "df.head()"
      ],
      "execution_count": 78,
      "outputs": [
        {
          "output_type": "execute_result",
          "data": {
            "text/html": [
              "<div>\n",
              "<style scoped>\n",
              "    .dataframe tbody tr th:only-of-type {\n",
              "        vertical-align: middle;\n",
              "    }\n",
              "\n",
              "    .dataframe tbody tr th {\n",
              "        vertical-align: top;\n",
              "    }\n",
              "\n",
              "    .dataframe thead th {\n",
              "        text-align: right;\n",
              "    }\n",
              "</style>\n",
              "<table border=\"1\" class=\"dataframe\">\n",
              "  <thead>\n",
              "    <tr style=\"text-align: right;\">\n",
              "      <th></th>\n",
              "      <th>sexo</th>\n",
              "      <th>indice_socioeconomico</th>\n",
              "      <th>nivel_desemp_matematica</th>\n",
              "      <th>nivel_desemp_lengua</th>\n",
              "      <th>ponderador_lengua</th>\n",
              "      <th>ponderador_matematica</th>\n",
              "      <th>ponderador_ciencias_naturales</th>\n",
              "      <th>ponderador_ciencias_sociales</th>\n",
              "      <th>tiene_notebook</th>\n",
              "      <th>tiene_pc</th>\n",
              "      <th>tiene_tablet</th>\n",
              "      <th>tiene_celular</th>\n",
              "      <th>tiene_smartphone</th>\n",
              "      <th>tiene_consola</th>\n",
              "      <th>tiene_smarttv</th>\n",
              "      <th>tiene_cable</th>\n",
              "      <th>tiene_internet_x</th>\n",
              "      <th>repeticion_primaria</th>\n",
              "      <th>escuela_id</th>\n",
              "      <th>nivel_id</th>\n",
              "      <th>ambito</th>\n",
              "      <th>gestion</th>\n",
              "      <th>icse</th>\n",
              "      <th>indice_socioeconomico_medio</th>\n",
              "      <th>indice_socioeconomico_medio_cat</th>\n",
              "      <th>tecnica</th>\n",
              "      <th>tiene_internet_y</th>\n",
              "      <th>subvencion</th>\n",
              "      <th>dependencia</th>\n",
              "      <th>departamento_id</th>\n",
              "      <th>provincia_id</th>\n",
              "      <th>director_primaria</th>\n",
              "      <th>maestro_de_grado</th>\n",
              "      <th>maestro_inicial</th>\n",
              "    </tr>\n",
              "  </thead>\n",
              "  <tbody>\n",
              "    <tr>\n",
              "      <th>0</th>\n",
              "      <td>f</td>\n",
              "      <td>medio</td>\n",
              "      <td>0</td>\n",
              "      <td>avanzado</td>\n",
              "      <td>1.309467</td>\n",
              "      <td>1.308268</td>\n",
              "      <td>-1.0</td>\n",
              "      <td>-1.0</td>\n",
              "      <td>no</td>\n",
              "      <td>si</td>\n",
              "      <td>si</td>\n",
              "      <td>si</td>\n",
              "      <td>no</td>\n",
              "      <td>no</td>\n",
              "      <td>no</td>\n",
              "      <td>si</td>\n",
              "      <td>si</td>\n",
              "      <td>no</td>\n",
              "      <td>220564311</td>\n",
              "      <td>2</td>\n",
              "      <td>urbano</td>\n",
              "      <td>privada</td>\n",
              "      <td>-1.0</td>\n",
              "      <td>2.21978</td>\n",
              "      <td>tercil_alto</td>\n",
              "      <td>f</td>\n",
              "      <td>t</td>\n",
              "      <td>Subvención Total</td>\n",
              "      <td>provincial</td>\n",
              "      <td>89.0</td>\n",
              "      <td>4.0</td>\n",
              "      <td>27996.25</td>\n",
              "      <td>11744.66</td>\n",
              "      <td>11744.66</td>\n",
              "    </tr>\n",
              "    <tr>\n",
              "      <th>1</th>\n",
              "      <td>f</td>\n",
              "      <td>alto</td>\n",
              "      <td>0</td>\n",
              "      <td>avanzado</td>\n",
              "      <td>1.309467</td>\n",
              "      <td>1.308268</td>\n",
              "      <td>-1.0</td>\n",
              "      <td>-1.0</td>\n",
              "      <td>si</td>\n",
              "      <td>si</td>\n",
              "      <td>no</td>\n",
              "      <td>si</td>\n",
              "      <td>no</td>\n",
              "      <td>si</td>\n",
              "      <td>si</td>\n",
              "      <td>no</td>\n",
              "      <td>si</td>\n",
              "      <td>no</td>\n",
              "      <td>220564311</td>\n",
              "      <td>2</td>\n",
              "      <td>urbano</td>\n",
              "      <td>privada</td>\n",
              "      <td>-1.0</td>\n",
              "      <td>2.21978</td>\n",
              "      <td>tercil_alto</td>\n",
              "      <td>f</td>\n",
              "      <td>t</td>\n",
              "      <td>Subvención Total</td>\n",
              "      <td>provincial</td>\n",
              "      <td>89.0</td>\n",
              "      <td>4.0</td>\n",
              "      <td>27996.25</td>\n",
              "      <td>11744.66</td>\n",
              "      <td>11744.66</td>\n",
              "    </tr>\n",
              "    <tr>\n",
              "      <th>2</th>\n",
              "      <td>m</td>\n",
              "      <td>medio</td>\n",
              "      <td>0</td>\n",
              "      <td>satisfactorio</td>\n",
              "      <td>1.309467</td>\n",
              "      <td>1.308268</td>\n",
              "      <td>-1.0</td>\n",
              "      <td>-1.0</td>\n",
              "      <td>si</td>\n",
              "      <td>si</td>\n",
              "      <td>si</td>\n",
              "      <td>si</td>\n",
              "      <td>no</td>\n",
              "      <td>no</td>\n",
              "      <td>si</td>\n",
              "      <td>si</td>\n",
              "      <td>si</td>\n",
              "      <td>no</td>\n",
              "      <td>220564311</td>\n",
              "      <td>2</td>\n",
              "      <td>urbano</td>\n",
              "      <td>privada</td>\n",
              "      <td>-1.0</td>\n",
              "      <td>2.21978</td>\n",
              "      <td>tercil_alto</td>\n",
              "      <td>f</td>\n",
              "      <td>t</td>\n",
              "      <td>Subvención Total</td>\n",
              "      <td>provincial</td>\n",
              "      <td>89.0</td>\n",
              "      <td>4.0</td>\n",
              "      <td>27996.25</td>\n",
              "      <td>11744.66</td>\n",
              "      <td>11744.66</td>\n",
              "    </tr>\n",
              "    <tr>\n",
              "      <th>3</th>\n",
              "      <td>m</td>\n",
              "      <td>medio</td>\n",
              "      <td>0</td>\n",
              "      <td>avanzado</td>\n",
              "      <td>1.309467</td>\n",
              "      <td>1.308268</td>\n",
              "      <td>-1.0</td>\n",
              "      <td>-1.0</td>\n",
              "      <td>no</td>\n",
              "      <td>si</td>\n",
              "      <td>no</td>\n",
              "      <td>si</td>\n",
              "      <td>no</td>\n",
              "      <td>si</td>\n",
              "      <td>si</td>\n",
              "      <td>si</td>\n",
              "      <td>si</td>\n",
              "      <td>no</td>\n",
              "      <td>220564311</td>\n",
              "      <td>2</td>\n",
              "      <td>urbano</td>\n",
              "      <td>privada</td>\n",
              "      <td>-1.0</td>\n",
              "      <td>2.21978</td>\n",
              "      <td>tercil_alto</td>\n",
              "      <td>f</td>\n",
              "      <td>t</td>\n",
              "      <td>Subvención Total</td>\n",
              "      <td>provincial</td>\n",
              "      <td>89.0</td>\n",
              "      <td>4.0</td>\n",
              "      <td>27996.25</td>\n",
              "      <td>11744.66</td>\n",
              "      <td>11744.66</td>\n",
              "    </tr>\n",
              "    <tr>\n",
              "      <th>4</th>\n",
              "      <td>m</td>\n",
              "      <td>medio</td>\n",
              "      <td>0</td>\n",
              "      <td>avanzado</td>\n",
              "      <td>1.309467</td>\n",
              "      <td>1.308268</td>\n",
              "      <td>-1.0</td>\n",
              "      <td>-1.0</td>\n",
              "      <td>si</td>\n",
              "      <td>si</td>\n",
              "      <td>si</td>\n",
              "      <td>no</td>\n",
              "      <td>no</td>\n",
              "      <td>no</td>\n",
              "      <td>no</td>\n",
              "      <td>no</td>\n",
              "      <td>si</td>\n",
              "      <td>no</td>\n",
              "      <td>220564311</td>\n",
              "      <td>2</td>\n",
              "      <td>urbano</td>\n",
              "      <td>privada</td>\n",
              "      <td>-1.0</td>\n",
              "      <td>2.21978</td>\n",
              "      <td>tercil_alto</td>\n",
              "      <td>f</td>\n",
              "      <td>t</td>\n",
              "      <td>Subvención Total</td>\n",
              "      <td>provincial</td>\n",
              "      <td>89.0</td>\n",
              "      <td>4.0</td>\n",
              "      <td>27996.25</td>\n",
              "      <td>11744.66</td>\n",
              "      <td>11744.66</td>\n",
              "    </tr>\n",
              "  </tbody>\n",
              "</table>\n",
              "</div>"
            ],
            "text/plain": [
              "  sexo indice_socioeconomico  ...  maestro_de_grado maestro_inicial\n",
              "0    f                 medio  ...          11744.66        11744.66\n",
              "1    f                  alto  ...          11744.66        11744.66\n",
              "2    m                 medio  ...          11744.66        11744.66\n",
              "3    m                 medio  ...          11744.66        11744.66\n",
              "4    m                 medio  ...          11744.66        11744.66\n",
              "\n",
              "[5 rows x 34 columns]"
            ]
          },
          "metadata": {
            "tags": []
          },
          "execution_count": 78
        }
      ]
    },
    {
      "cell_type": "code",
      "metadata": {
        "id": "oldn7ZQ2t9hT",
        "colab_type": "code",
        "colab": {
          "base_uri": "https://localhost:8080/",
          "height": 654
        },
        "outputId": "b3bebff7-5949-405c-fc5c-2e809973515d"
      },
      "source": [
        "# ---------------------\n",
        "# para ver los nulos\n",
        "def pct_nulos(data):\n",
        "  return data.isnull().sum() / data.shape[0]\n",
        "pct_nulos(df)"
      ],
      "execution_count": 79,
      "outputs": [
        {
          "output_type": "execute_result",
          "data": {
            "text/plain": [
              "sexo                               0.000000\n",
              "indice_socioeconomico              0.000000\n",
              "nivel_desemp_matematica            0.000000\n",
              "nivel_desemp_lengua                0.000000\n",
              "ponderador_lengua                  0.000000\n",
              "ponderador_matematica              0.000000\n",
              "ponderador_ciencias_naturales      0.000000\n",
              "ponderador_ciencias_sociales       0.000000\n",
              "tiene_notebook                     0.000000\n",
              "tiene_pc                           0.000000\n",
              "tiene_tablet                       0.000000\n",
              "tiene_celular                      0.000000\n",
              "tiene_smartphone                   0.000000\n",
              "tiene_consola                      0.000000\n",
              "tiene_smarttv                      0.000000\n",
              "tiene_cable                        0.000000\n",
              "tiene_internet_x                   0.000000\n",
              "repeticion_primaria                0.000000\n",
              "escuela_id                         0.000000\n",
              "nivel_id                           0.000000\n",
              "ambito                             0.000000\n",
              "gestion                            0.000000\n",
              "icse                               0.000183\n",
              "indice_socioeconomico_medio        0.000183\n",
              "indice_socioeconomico_medio_cat    0.000183\n",
              "tecnica                            0.000183\n",
              "tiene_internet_y                   0.000183\n",
              "subvencion                         0.000183\n",
              "dependencia                        0.000183\n",
              "departamento_id                    0.000183\n",
              "provincia_id                       0.000183\n",
              "director_primaria                  0.000183\n",
              "maestro_de_grado                   0.000183\n",
              "maestro_inicial                    0.000183\n",
              "dtype: float64"
            ]
          },
          "metadata": {
            "tags": []
          },
          "execution_count": 79
        }
      ]
    },
    {
      "cell_type": "code",
      "metadata": {
        "id": "FoiApCEPv0pj",
        "colab_type": "code",
        "colab": {}
      },
      "source": [
        "# -------------------------------------------------------------\n",
        "# Creo los ponderadores para matematica y lengua. Ademas elimino algunas variables irrelevantes para el modelo\n",
        "df.columns\n",
        "ponderador_mate = df.ponderador_matematica\n",
        "ponderador_lengua = df.ponderador_lengua\n",
        "df.drop(columns=['ponderador_lengua', 'ponderador_matematica','ponderador_ciencias_naturales', 'ponderador_ciencias_sociales'],inplace = True)"
      ],
      "execution_count": 80,
      "outputs": []
    },
    {
      "cell_type": "code",
      "metadata": {
        "id": "ND6tltTUsu1n",
        "colab_type": "code",
        "colab": {}
      },
      "source": [
        "\n",
        "\"\"\"A continuación ejecutamos modelos de regresión logistica para validar que el dataset final sea adecuado para trabajar .\n",
        "\"\"\"\n",
        "# ---------------------------------------------------\n",
        "# elimino algunos nulos que quedaros \n",
        "df.dropna(inplace=True)\n",
        "# ------------------------------------------\n",
        "X = df.drop('nivel_desemp_matematica', axis=1)\n",
        "y = df['nivel_desemp_matematica']\n",
        "X_train, X_test, y_train, y_test = train_test_split(X, y, stratify = y, random_state=42)\n"
      ],
      "execution_count": 81,
      "outputs": []
    },
    {
      "cell_type": "code",
      "metadata": {
        "id": "HgvN7k6ysu3H",
        "colab_type": "code",
        "colab": {}
      },
      "source": [
        "class ColumnSelector(BaseEstimator, TransformerMixin):\n",
        "    def __init__(self, columns = 'n'):\n",
        "        self.columns = columns\n",
        "    \n",
        "    def transform(self, X, *_):\n",
        "        if isinstance(X, pd.DataFrame):\n",
        "            #c para tomar columnas categoricas, cualquier otro valor para tomar continuas.\n",
        "            if self.columns == 'c':\n",
        "              # --------------------------------------------------\n",
        "              # este codigo: pd.api.types.is_categorical_dtype(df[col])\n",
        "              # Cambio en la ultima parte lo que era igual a df[col] por X[col]\n",
        "              # Da el mismo resultado, pero ahora si le paso otro data frame no me va tirar error\n",
        "              #  Tambien, lo cambio en el else\n",
        "              # ----------------------------------------------------\n",
        "                categorical_columns = [col for col in X.columns if pd.api.types.is_categorical_dtype(X[col])]\n",
        "                return pd.DataFrame(X[categorical_columns])\n",
        "            else:\n",
        "                scal_columns = [col for col in X.columns if (pd.api.types.is_categorical_dtype(X[col]) == False)]\n",
        "                return pd.DataFrame(X[scal_columns])\n",
        "        else:\n",
        "            raise TypeError(\"Este Transformador solo funciona en DF de Pandas\")\n",
        "    \n",
        "    def fit(self, X, *_):\n",
        "        return self\n",
        "cat_pipe = make_pipeline(ColumnSelector('c'),OneHotEncoder(handle_unknown='ignore'))\n",
        "num_pipe = make_pipeline(ColumnSelector('n'),StandardScaler())\n",
        "union = make_union(num_pipe,\n",
        "                   cat_pipe)\n",
        "\n"
      ],
      "execution_count": 82,
      "outputs": []
    },
    {
      "cell_type": "code",
      "metadata": {
        "tags": [],
        "id": "QTxOgHoesu3N",
        "colab_type": "code",
        "colab": {
          "base_uri": "https://localhost:8080/",
          "height": 290
        },
        "outputId": "411a8d83-ec20-43f7-ba95-c2f27e4f4c89"
      },
      "source": [
        "#Este paso tarda bastante dado que ejecutamos un random grid search.\n",
        "\"\"\"\n",
        "RESULTADO: \n",
        "Best score: 0.739\n",
        "Best parameters set:\n",
        "\t log__C: 0.1\n",
        "\t log__penalty: 'l2'\n",
        "              precision    recall  f1-score   support\n",
        "\n",
        "           0       0.77      0.81      0.79     44028\n",
        "           1       0.69      0.63      0.66     29395\n",
        "\n",
        "    accuracy                           0.74     73423\n",
        "   macro avg       0.73      0.72      0.72     73423\n",
        "weighted avg       0.73      0.74      0.74     73423\n",
        "\n",
        "0.7373302643585797\n",
        "\"\"\"\n",
        "# ---------------------------------\n",
        "# Con los cambios que hice este fue el score\n",
        "# Best score: 0.772\n",
        "# Best parameters set:\n",
        "# \t log__C: 0.1\n",
        "# \t log__penalty: 'l2'\n",
        "# \t log__solver: 'saga'\n",
        "#               precision    recall  f1-score   support\n",
        "\n",
        "#            0       0.84      0.89      0.86       966\n",
        "#            1       0.69      0.58      0.63       400\n",
        "\n",
        "#     accuracy                           0.80      1366\n",
        "#    macro avg       0.76      0.74      0.75      1366\n",
        "# weighted avg       0.79      0.80      0.80      1366\n",
        "\n",
        "# 0.801610541727672\n",
        "\n",
        "\n",
        "#  el solver elegido saga, segun la documentación de sklearn funciona mejor para dasets grandes como el nuestro\n",
        "# ---------------------------------------------------\n",
        "\n",
        "\n",
        "\n",
        "union.fit_transform(X)\n",
        "# -------------------------------------------------------\n",
        "# para que la regresion logistica sea representativa de una poblacion se tienen que usar los ponderadores\n",
        "# LogisticRegression(solver='liblinear').fit(X,y,class_weight=\"ponderador_matematica)\n",
        "#  hay que ver como se lo agregamos al grid search ya que no me deja hacerlo \n",
        "# -----------------------------------------------------------\n",
        "\n",
        "\n",
        "\n",
        "pipeline = Pipeline([('union', union), \n",
        "                     ('log', LogisticRegression(solver='liblinear'))])\n",
        "# ----------------------------------------------\n",
        "#  agrego solver para elegir \n",
        "parameters = {'log__solver':['newton-cg', 'lbfgs', 'liblinear', 'sag', 'saga'],\n",
        "              'log__penalty': ['l1', 'l2'],\n",
        "              'log__C': [0.01, 0.1, 1, 10, 100]}\n",
        "folds=StratifiedKFold(n_splits=5,shuffle=True, random_state=42)\n",
        "grid_search = RandomizedSearchCV(pipeline, parameters,cv=folds, n_jobs = 5)\n",
        "grid_search.fit(pd.DataFrame(X_train, columns=X.columns), y_train)\n",
        "\n",
        "print(\"Best score: %0.3f\" % grid_search.best_score_) \n",
        "print(\"Best parameters set:\" )\n",
        "best_parameters = grid_search.best_estimator_.get_params()\n",
        "for param_name in sorted (parameters . keys()): \n",
        "                    print(\"\\t %s: %r\" % (param_name, best_parameters[param_name])) \n",
        "# -----------------------------------------------------------------------------\n",
        "# habria que evitar usar los datos de testeo, primero probar con varios modelos, una vez elegido el modelo usar los datos de testeo\n",
        "y_pred = grid_search.best_estimator_.predict(X_test)\n",
        "print(classification_report(y_test, y_pred))\n",
        "print(accuracy_score(y_test, y_pred))"
      ],
      "execution_count": 83,
      "outputs": [
        {
          "output_type": "stream",
          "text": [
            "Best score: 0.772\n",
            "Best parameters set:\n",
            "\t log__C: 0.1\n",
            "\t log__penalty: 'l2'\n",
            "\t log__solver: 'saga'\n",
            "              precision    recall  f1-score   support\n",
            "\n",
            "           0       0.84      0.89      0.86       966\n",
            "           1       0.69      0.58      0.63       400\n",
            "\n",
            "    accuracy                           0.80      1366\n",
            "   macro avg       0.76      0.74      0.75      1366\n",
            "weighted avg       0.79      0.80      0.80      1366\n",
            "\n",
            "0.801610541727672\n"
          ],
          "name": "stdout"
        }
      ]
    },
    {
      "cell_type": "code",
      "metadata": {
        "id": "Wr2wNahX63Kv",
        "colab_type": "code",
        "colab": {
          "base_uri": "https://localhost:8080/",
          "height": 72
        },
        "outputId": "bea61f1c-9622-4481-bb25-f60999d61a8c"
      },
      "source": [
        "#  Hago un grid search sobre el log__C al rededor de 0.1 que fue el parametro elegido\n",
        "pipeline = Pipeline([('union', union), \n",
        "                    ('log', LogisticRegression(solver='saga',penalty='l2'))])\n",
        "#  agrego solver para elegir \n",
        "parameters = {\n",
        "    'log__C': np.linspace(0.01,1,30)\n",
        "    }\n",
        "folds=StratifiedKFold(n_splits=5,shuffle=True, random_state=42)\n",
        "grid_search = GridSearchCV(pipeline, parameters,cv=folds, n_jobs = 5)\n",
        "grid_search.fit(pd.DataFrame(X_train, columns=X.columns), y_train)\n",
        "\n",
        "print(\"Best score: %0.3f\" % grid_search.best_score_) \n",
        "print(\"Best parameters set:\" )\n",
        "best_parameters = grid_search.best_estimator_.get_params()\n",
        "for param_name in sorted (parameters . keys()): \n",
        "                    print(\"\\t %s: %r\" % (param_name, best_parameters[param_name]))\n",
        "\n",
        "#  El score en el grid search mejoro un poco"
      ],
      "execution_count": 88,
      "outputs": [
        {
          "output_type": "stream",
          "text": [
            "Best score: 0.774\n",
            "Best parameters set:\n",
            "\t log__C: 0.38551724137931037\n"
          ],
          "name": "stdout"
        }
      ]
    },
    {
      "cell_type": "code",
      "metadata": {
        "id": "1Un8XzHVtncr",
        "colab_type": "code",
        "colab": {
          "base_uri": "https://localhost:8080/",
          "height": 283
        },
        "outputId": "d848b1dd-63ce-4dec-a4ce-a9d756d61498"
      },
      "source": [
        "# Histograma de probabilidades para ver si cambiando el umbral de decición puedo mejorar el accuracy \n",
        "sns.distplot(grid_search.predict_proba(X_train[y_train==0])[:,1])\n",
        "sns.distplot(grid_search.predict_proba(X_train[y_train==1])[:,1])\n",
        "ylim = plt.ylim()\n",
        "plt.vlines(0.5, ylim[0], ylim[1])\n",
        "plt.ylim(ylim)\n",
        "plt.legend(['Umbral', 'TenYearCHD = 0', 'TenYearCHD = 1'])"
      ],
      "execution_count": 34,
      "outputs": [
        {
          "output_type": "execute_result",
          "data": {
            "text/plain": [
              "<matplotlib.legend.Legend at 0x7f374f0775c0>"
            ]
          },
          "metadata": {
            "tags": []
          },
          "execution_count": 34
        },
        {
          "output_type": "display_data",
          "data": {
            "image/png": "[encoded data removed]",
            "text/plain": [
              "<Figure size 432x288 with 1 Axes>"
            ]
          },
          "metadata": {
            "tags": [],
            "needs_background": "light"
          }
        }
      ]
    },
    {
      "cell_type": "code",
      "metadata": {
        "id": "Ii0LJMsT13Bu",
        "colab_type": "code",
        "colab": {
          "base_uri": "https://localhost:8080/",
          "height": 399
        },
        "outputId": "eecc8e9f-587a-4ba5-a6fa-3b683c19a46c"
      },
      "source": [
        "accuracy = []\n",
        "for umbral in np.linspace(0.01,0.9,20):\n",
        "  probabilidad = grid_search.predict_proba(X_train)[:,1]\n",
        "  y_pred_proba = probabilidad > umbral\n",
        "  accuracy.append([accuracy_score(y_train,y_pred_proba),umbral])\n",
        "  print(f\"umbral igual {umbral}:\",accuracy_score(y_train,y_pred_proba))\n",
        "print(\"mejor accuracy es\",max(accuracy))\n",
        "# Hay que tener en cuenta que al hacer esto podemos tener problemas de overfitting, \n",
        "# si lo hicieramos en un esquema de validacion cruzada seria mejor"
      ],
      "execution_count": 42,
      "outputs": [
        {
          "output_type": "stream",
          "text": [
            "umbral igual 0.01: 0.29240907981449843\n",
            "umbral igual 0.056842105263157895: 0.4264095679765682\n",
            "umbral igual 0.10368421052631578: 0.5684647302904564\n",
            "umbral igual 0.15052631578947367: 0.6482792287039297\n",
            "umbral igual 0.19736842105263158: 0.6927019770563827\n",
            "umbral igual 0.2442105263157895: 0.7254088357334635\n",
            "umbral igual 0.29105263157894734: 0.751769587503051\n",
            "umbral igual 0.33789473684210525: 0.7661703685623628\n",
            "umbral igual 0.38473684210526315: 0.7761776909934098\n",
            "umbral igual 0.43157894736842106: 0.7844764461801318\n",
            "umbral igual 0.47842105263157897: 0.7842323651452282\n",
            "umbral igual 0.5252631578947369: 0.7852086892848426\n",
            "umbral igual 0.5721052631578947: 0.7805711496216744\n",
            "umbral igual 0.6189473684210526: 0.7703197461557237\n",
            "umbral igual 0.6657894736842105: 0.7605565047595801\n",
            "umbral igual 0.7126315789473684: 0.7512814254332438\n",
            "umbral igual 0.7594736842105263: 0.7381010495484501\n",
            "umbral igual 0.8063157894736842: 0.7232121064193312\n",
            "umbral igual 0.8531578947368421: 0.7151574322675128\n",
            "umbral igual 0.9: 0.7090554063949231\n",
            "mejor accuracy es [0.7852086892848426, 0.5252631578947369]\n"
          ],
          "name": "stdout"
        }
      ]
    },
    {
      "cell_type": "code",
      "metadata": {
        "id": "LyL8n1Jb3qcu",
        "colab_type": "code",
        "colab": {
          "base_uri": "https://localhost:8080/",
          "height": 290
        },
        "outputId": "9efa00ca-684d-4438-baa6-9a05522e148e"
      },
      "source": [
        "# -------------------------------------------------------\n",
        "# para que la regresion logistica sea representativa de una poblacion se tienen que usar los ponderadores\n",
        "# LogisticRegression(solver='liblinear').fit(X,y,class_weight=\"ponderador_matematica)\n",
        "\n",
        "# -----------------------------------------------------------\n",
        "\n",
        "pipeline = Pipeline([('union', union), \n",
        "                    ('modelo', KNeighborsClassifier())])\n",
        "parameters = {'modelo__n_neighbors':[5,10,50,100,200,300,1000],\n",
        "              'modelo__weights':['uniform','distance']}\n",
        "folds=StratifiedKFold(n_splits=5,shuffle=True, random_state=42)\n",
        "grid_search = RandomizedSearchCV(pipeline, parameters,cv=folds, n_jobs = 5)\n",
        "grid_search.fit(pd.DataFrame(X_train, columns=X.columns), y_train)\n",
        "\n",
        "print(\"Best score: %0.3f\" % grid_search.best_score_) \n",
        "print(\"Best parameters set:\" )\n",
        "best_parameters = grid_search.best_estimator_.get_params()\n",
        "for param_name in sorted (parameters . keys()): \n",
        "                    print(\"\\t %s: %r\" % (param_name, best_parameters[param_name])) \n",
        "y_pred_train = grid_search.best_estimator_.predict(X_train)\n",
        "print(\"EN ENTRENAMIENTO \\n\",classification_report(y_train, y_pred_train))\n",
        "print(accuracy_score(y_train, y_pred_train))"
      ],
      "execution_count": 90,
      "outputs": [
        {
          "output_type": "stream",
          "text": [
            "Best score: 0.749\n",
            "Best parameters set:\n",
            "\t modelo__n_neighbors: 50\n",
            "\t modelo__weights: 'uniform'\n",
            "EN ENTRENAMIENTO \n",
            "               precision    recall  f1-score   support\n",
            "\n",
            "           0       0.77      0.93      0.84      2899\n",
            "           1       0.66      0.33      0.44      1198\n",
            "\n",
            "    accuracy                           0.75      4097\n",
            "   macro avg       0.71      0.63      0.64      4097\n",
            "weighted avg       0.74      0.75      0.72      4097\n",
            "\n",
            "0.7534781547473761\n"
          ],
          "name": "stdout"
        }
      ]
    },
    {
      "cell_type": "code",
      "metadata": {
        "id": "Wz1j8b656OnM",
        "colab_type": "code",
        "colab": {
          "base_uri": "https://localhost:8080/",
          "height": 290
        },
        "outputId": "561ba66f-3ce3-4df7-d3d9-a5b26bb39d78"
      },
      "source": [
        "# -----------------------------------------------\n",
        "#  Ahora pruebo con un modelo naive bayes, como el union devuelve una matriz esparza primero lo aplico por fuera\n",
        "#  y luego hago el grid search lo paso como array y busco entre dos modelo de tipo naive bayes \n",
        "# ---------------------------------------\n",
        "X_train_union= union.fit_transform(X_train)\n",
        "X_test_union= union.transform(X_test)\n",
        "\n",
        "pipeline = Pipeline([('modelo', GaussianNB())])\n",
        "\n",
        "parameters = {'modelo':[GaussianNB(),LinearDiscriminantAnalysis()]}\n",
        "\n",
        "folds=StratifiedKFold(n_splits=5,shuffle=True, random_state=42)\n",
        "\n",
        "grid_search = GridSearchCV(pipeline, parameters,cv=folds, n_jobs = 5)\n",
        "grid_search.fit(X_train_union.toarray(), y_train)\n",
        "\n",
        "print(\"Best score: %0.3f\" % grid_search.best_score_) \n",
        "print(\"Best parameters set:\" )\n",
        "best_parameters = grid_search.best_estimator_.get_params()\n",
        "for param_name in sorted (parameters . keys()): \n",
        "                    print(\"\\t %s: %r\" % (param_name, best_parameters[param_name]))\n",
        "y_pred = grid_search.best_estimator_.predict(X_train_union.toarray())\n",
        "print(\"EN ENTRENAMIENTO: \\n\",classification_report(y_train, y_pred))\n",
        "print(\"EN ENTRENAMIENTO\",accuracy_score(y_train, y_pred))\n",
        "resultados_NB = pd.DataFrame(grid_search.cv_results_)\n",
        "#  Se ve el algoritmo linear discriminant analysis anda bien.\n",
        "#  Aqui la documentación https://scikit-learn.org/stable/modules/generated/sklearn.discriminant_analysis.LinearDiscriminantAnalysis.html"
      ],
      "execution_count": 105,
      "outputs": [
        {
          "output_type": "stream",
          "text": [
            "Best score: 0.769\n",
            "Best parameters set:\n",
            "\t modelo: LinearDiscriminantAnalysis(n_components=None, priors=None, shrinkage=None,\n",
            "                           solver='svd', store_covariance=False, tol=0.0001)\n",
            "EN ENTRENAMIENTO: \n",
            "               precision    recall  f1-score   support\n",
            "\n",
            "           0       0.83      0.90      0.86      2899\n",
            "           1       0.69      0.56      0.62      1198\n",
            "\n",
            "    accuracy                           0.80      4097\n",
            "   macro avg       0.76      0.73      0.74      4097\n",
            "weighted avg       0.79      0.80      0.79      4097\n",
            "\n",
            "EN ENTRENAMIENTO 0.7983890651696364\n"
          ],
          "name": "stdout"
        }
      ]
    },
    {
      "cell_type": "code",
      "metadata": {
        "id": "28NqZORjH5_o",
        "colab_type": "code",
        "colab": {
          "base_uri": "https://localhost:8080/",
          "height": 163
        },
        "outputId": "f29aaf49-b48f-4689-8886-ddb1d442668e"
      },
      "source": [
        "resultados_NB.iloc[:,4:]"
      ],
      "execution_count": 107,
      "outputs": [
        {
          "output_type": "execute_result",
          "data": {
            "text/html": [
              "<div>\n",
              "<style scoped>\n",
              "    .dataframe tbody tr th:only-of-type {\n",
              "        vertical-align: middle;\n",
              "    }\n",
              "\n",
              "    .dataframe tbody tr th {\n",
              "        vertical-align: top;\n",
              "    }\n",
              "\n",
              "    .dataframe thead th {\n",
              "        text-align: right;\n",
              "    }\n",
              "</style>\n",
              "<table border=\"1\" class=\"dataframe\">\n",
              "  <thead>\n",
              "    <tr style=\"text-align: right;\">\n",
              "      <th></th>\n",
              "      <th>param_modelo</th>\n",
              "      <th>params</th>\n",
              "      <th>split0_test_score</th>\n",
              "      <th>split1_test_score</th>\n",
              "      <th>split2_test_score</th>\n",
              "      <th>split3_test_score</th>\n",
              "      <th>split4_test_score</th>\n",
              "      <th>mean_test_score</th>\n",
              "      <th>std_test_score</th>\n",
              "      <th>rank_test_score</th>\n",
              "    </tr>\n",
              "  </thead>\n",
              "  <tbody>\n",
              "    <tr>\n",
              "      <th>0</th>\n",
              "      <td>GaussianNB(priors=None, var_smoothing=1e-09)</td>\n",
              "      <td>{'modelo': GaussianNB(priors=None, var_smoothi...</td>\n",
              "      <td>0.454878</td>\n",
              "      <td>0.467073</td>\n",
              "      <td>0.478632</td>\n",
              "      <td>0.482295</td>\n",
              "      <td>0.492063</td>\n",
              "      <td>0.474989</td>\n",
              "      <td>0.012848</td>\n",
              "      <td>2</td>\n",
              "    </tr>\n",
              "    <tr>\n",
              "      <th>1</th>\n",
              "      <td>LinearDiscriminantAnalysis(n_components=None, ...</td>\n",
              "      <td>{'modelo': LinearDiscriminantAnalysis(n_compon...</td>\n",
              "      <td>0.758537</td>\n",
              "      <td>0.763415</td>\n",
              "      <td>0.755800</td>\n",
              "      <td>0.780220</td>\n",
              "      <td>0.785104</td>\n",
              "      <td>0.768615</td>\n",
              "      <td>0.011827</td>\n",
              "      <td>1</td>\n",
              "    </tr>\n",
              "  </tbody>\n",
              "</table>\n",
              "</div>"
            ],
            "text/plain": [
              "                                        param_modelo  ... rank_test_score\n",
              "0       GaussianNB(priors=None, var_smoothing=1e-09)  ...               2\n",
              "1  LinearDiscriminantAnalysis(n_components=None, ...  ...               1\n",
              "\n",
              "[2 rows x 10 columns]"
            ]
          },
          "metadata": {
            "tags": []
          },
          "execution_count": 107
        }
      ]
    },
    {
      "cell_type": "markdown",
      "metadata": {
        "id": "zMFsy03FIglp",
        "colab_type": "text"
      },
      "source": [
        "### Comentarios\n",
        "Era de esperase que el modelo gaussian_NB sean malo, ya que supone que las features no se correlacionan, cosa que es muy poco problable. Ya que un chico que se encuentra en una clase economicamente baja es de esperarse que no tenga celular, computadora y varios elementos mas que aparecen como variables dummy.\n",
        "Por otra parte el algoritmo LinearDiscriminant Analysis funciona muy bien, llegando a resultados parecidos al de la regresión logistica en entrenamiento.\n"
      ]
    },
    {
      "cell_type": "code",
      "metadata": {
        "id": "daRYZQyTHBW_",
        "colab_type": "code",
        "colab": {
          "base_uri": "https://localhost:8080/",
          "height": 90
        },
        "outputId": "5d712fcb-fbcc-4d83-cb71-d1883eab038b"
      },
      "source": [
        "#evaluation - baselines\n",
        "num_folds = 10\n",
        "seed = 7\n",
        "scoring = 'accuracy'\n",
        "models = []\n",
        "models.append(('LR', LogisticRegression(max_iter=1000)))\n",
        "models.append(('KNN', KNeighborsClassifier()))\n",
        "models.append(('CART', DecisionTreeClassifier()))\n",
        "models.append(('SVM', SVC()))\n",
        "\n",
        "results = []\n",
        "names = []\n",
        "for name, model in models:\n",
        "    kfold = KFold(n_splits=num_folds, random_state=seed,shuffle=True)\n",
        "    cv_results = cross_val_score(model,X_train_union.toarray(), y_train, cv=kfold, scoring=scoring)\n",
        "    results.append(cv_results)\n",
        "    names.append(name)\n",
        "    msg = \"%s %f %f \" % (name, cv_results.mean(), cv_results.std())\n",
        "    print(msg)"
      ],
      "execution_count": 109,
      "outputs": [
        {
          "output_type": "stream",
          "text": [
            "LR 0.776179 0.024170 \n",
            "KNN 0.724443 0.024843 \n",
            "CART 0.700273 0.035248 \n",
            "SVM 0.764705 0.028605 \n"
          ],
          "name": "stdout"
        }
      ]
    },
    {
      "cell_type": "code",
      "metadata": {
        "id": "Lw-40z7J2V05",
        "colab_type": "code",
        "colab": {
          "base_uri": "https://localhost:8080/",
          "height": 326
        },
        "outputId": "0786a275-2a75-4e13-fc6b-5c95b1c30efc"
      },
      "source": [
        "pipeline = Pipeline([('union', union), \n",
        "                     ('modelo', LogisticRegression(solver='liblinear'))])\n",
        "#  agrego solver para elegir \n",
        "parameters = {'modelo':[\n",
        "                        LogisticRegression(max_iter=1000),\n",
        "                        KNeighborsClassifier(n_neighbors=100),\n",
        "                        DecisionTreeClassifier(),\n",
        "                        SVC()\n",
        "]}\n",
        "folds=StratifiedKFold(n_splits=5,shuffle=True, random_state=42)\n",
        "grid_search = GridSearchCV(pipeline, parameters,cv=folds, n_jobs = 5)\n",
        "grid_search.fit(pd.DataFrame(X_train, columns=X.columns), y_train)\n",
        "\n",
        "print(\"Best score: %0.3f\" % grid_search.best_score_) \n",
        "print(\"Best parameters set:\" )\n",
        "best_parameters = grid_search.best_estimator_.get_params()\n",
        "for param_name in sorted (parameters . keys()): \n",
        "                    print(\"\\t %s: %r\" % (param_name, best_parameters[param_name])) \n",
        "\n",
        "# habria que evitar usar los datos de testeo, primero probar con varios modelos, una vez elegido el modelo usar los datos de testeo\n",
        "y_pred = grid_search.best_estimator_.predict(X_test)\n",
        "print(classification_report(y_test, y_pred))\n",
        "print(accuracy_score(y_test, y_pred))"
      ],
      "execution_count": 110,
      "outputs": [
        {
          "output_type": "stream",
          "text": [
            "Best score: 0.771\n",
            "Best parameters set:\n",
            "\t modelo: LogisticRegression(C=1.0, class_weight=None, dual=False, fit_intercept=True,\n",
            "                   intercept_scaling=1, l1_ratio=None, max_iter=1000,\n",
            "                   multi_class='auto', n_jobs=None, penalty='l2',\n",
            "                   random_state=None, solver='lbfgs', tol=0.0001, verbose=0,\n",
            "                   warm_start=False)\n",
            "              precision    recall  f1-score   support\n",
            "\n",
            "           0       0.85      0.89      0.87       966\n",
            "           1       0.70      0.61      0.65       400\n",
            "\n",
            "    accuracy                           0.81      1366\n",
            "   macro avg       0.77      0.75      0.76      1366\n",
            "weighted avg       0.80      0.81      0.80      1366\n",
            "\n",
            "0.8074670571010248\n"
          ],
          "name": "stdout"
        }
      ]
    },
    {
      "cell_type": "code",
      "metadata": {
        "id": "cYr2xjV95Tw-",
        "colab_type": "code",
        "colab": {
          "base_uri": "https://localhost:8080/",
          "height": 257
        },
        "outputId": "dc7fa52c-bcce-4ff2-99fc-645e738c2ea4"
      },
      "source": [
        "pd.DataFrame(grid_search.cv_results_)"
      ],
      "execution_count": 111,
      "outputs": [
        {
          "output_type": "execute_result",
          "data": {
            "text/html": [
              "<div>\n",
              "<style scoped>\n",
              "    .dataframe tbody tr th:only-of-type {\n",
              "        vertical-align: middle;\n",
              "    }\n",
              "\n",
              "    .dataframe tbody tr th {\n",
              "        vertical-align: top;\n",
              "    }\n",
              "\n",
              "    .dataframe thead th {\n",
              "        text-align: right;\n",
              "    }\n",
              "</style>\n",
              "<table border=\"1\" class=\"dataframe\">\n",
              "  <thead>\n",
              "    <tr style=\"text-align: right;\">\n",
              "      <th></th>\n",
              "      <th>mean_fit_time</th>\n",
              "      <th>std_fit_time</th>\n",
              "      <th>mean_score_time</th>\n",
              "      <th>std_score_time</th>\n",
              "      <th>param_modelo</th>\n",
              "      <th>params</th>\n",
              "      <th>split0_test_score</th>\n",
              "      <th>split1_test_score</th>\n",
              "      <th>split2_test_score</th>\n",
              "      <th>split3_test_score</th>\n",
              "      <th>split4_test_score</th>\n",
              "      <th>mean_test_score</th>\n",
              "      <th>std_test_score</th>\n",
              "      <th>rank_test_score</th>\n",
              "    </tr>\n",
              "  </thead>\n",
              "  <tbody>\n",
              "    <tr>\n",
              "      <th>0</th>\n",
              "      <td>1.096066</td>\n",
              "      <td>0.227355</td>\n",
              "      <td>0.090740</td>\n",
              "      <td>0.010313</td>\n",
              "      <td>LogisticRegression(C=1.0, class_weight=None, d...</td>\n",
              "      <td>{'modelo': LogisticRegression(C=1.0, class_wei...</td>\n",
              "      <td>0.758537</td>\n",
              "      <td>0.775610</td>\n",
              "      <td>0.755800</td>\n",
              "      <td>0.774115</td>\n",
              "      <td>0.789988</td>\n",
              "      <td>0.770810</td>\n",
              "      <td>0.012471</td>\n",
              "      <td>1</td>\n",
              "    </tr>\n",
              "    <tr>\n",
              "      <th>1</th>\n",
              "      <td>0.255232</td>\n",
              "      <td>0.028394</td>\n",
              "      <td>1.010517</td>\n",
              "      <td>0.077839</td>\n",
              "      <td>KNeighborsClassifier(algorithm='auto', leaf_si...</td>\n",
              "      <td>{'modelo': KNeighborsClassifier(algorithm='aut...</td>\n",
              "      <td>0.737805</td>\n",
              "      <td>0.750000</td>\n",
              "      <td>0.758242</td>\n",
              "      <td>0.747253</td>\n",
              "      <td>0.753358</td>\n",
              "      <td>0.749331</td>\n",
              "      <td>0.006830</td>\n",
              "      <td>3</td>\n",
              "    </tr>\n",
              "    <tr>\n",
              "      <th>2</th>\n",
              "      <td>0.751470</td>\n",
              "      <td>0.053937</td>\n",
              "      <td>0.077109</td>\n",
              "      <td>0.014120</td>\n",
              "      <td>DecisionTreeClassifier(ccp_alpha=0.0, class_we...</td>\n",
              "      <td>{'modelo': DecisionTreeClassifier(ccp_alpha=0....</td>\n",
              "      <td>0.695122</td>\n",
              "      <td>0.724390</td>\n",
              "      <td>0.659341</td>\n",
              "      <td>0.675214</td>\n",
              "      <td>0.726496</td>\n",
              "      <td>0.696112</td>\n",
              "      <td>0.026505</td>\n",
              "      <td>4</td>\n",
              "    </tr>\n",
              "    <tr>\n",
              "      <th>3</th>\n",
              "      <td>4.864150</td>\n",
              "      <td>0.061229</td>\n",
              "      <td>1.022161</td>\n",
              "      <td>0.092686</td>\n",
              "      <td>SVC(C=1.0, break_ties=False, cache_size=200, c...</td>\n",
              "      <td>{'modelo': SVC(C=1.0, break_ties=False, cache_...</td>\n",
              "      <td>0.757317</td>\n",
              "      <td>0.771951</td>\n",
              "      <td>0.755800</td>\n",
              "      <td>0.770452</td>\n",
              "      <td>0.777778</td>\n",
              "      <td>0.766660</td>\n",
              "      <td>0.008616</td>\n",
              "      <td>2</td>\n",
              "    </tr>\n",
              "  </tbody>\n",
              "</table>\n",
              "</div>"
            ],
            "text/plain": [
              "   mean_fit_time  std_fit_time  ...  std_test_score  rank_test_score\n",
              "0       1.096066      0.227355  ...        0.012471                1\n",
              "1       0.255232      0.028394  ...        0.006830                3\n",
              "2       0.751470      0.053937  ...        0.026505                4\n",
              "3       4.864150      0.061229  ...        0.008616                2\n",
              "\n",
              "[4 rows x 14 columns]"
            ]
          },
          "metadata": {
            "tags": []
          },
          "execution_count": 111
        }
      ]
    },
    {
      "cell_type": "code",
      "metadata": {
        "id": "fGEjJDwtTeLN",
        "colab_type": "code",
        "colab": {}
      },
      "source": [
        ""
      ],
      "execution_count": null,
      "outputs": []
    },
    {
      "cell_type": "code",
      "metadata": {
        "id": "QyznDQjD6RJz",
        "colab_type": "code",
        "colab": {}
      },
      "source": [
        ""
      ],
      "execution_count": null,
      "outputs": []
    }
  ]
}